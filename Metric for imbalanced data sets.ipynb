{
 "cells": [
  {
   "cell_type": "code",
   "execution_count": 10,
   "id": "6b328e62",
   "metadata": {},
   "outputs": [
    {
     "data": {
      "text/plain": [
       "array([0, 1, 2, ..., 8, 9, 8])"
      ]
     },
     "execution_count": 10,
     "metadata": {},
     "output_type": "execute_result"
    }
   ],
   "source": [
    "from sklearn.datasets import load_digits\n",
    "import numpy as np\n",
    "\n",
    "ld=load_digits()\n",
    "ld.target\n",
    "\n"
   ]
  },
  {
   "cell_type": "code",
   "execution_count": 4,
   "id": "0e13ff5d",
   "metadata": {},
   "outputs": [
    {
     "data": {
      "text/plain": [
       "(1797,)"
      ]
     },
     "execution_count": 4,
     "metadata": {},
     "output_type": "execute_result"
    }
   ],
   "source": [
    "ld.target.shape"
   ]
  },
  {
   "cell_type": "code",
   "execution_count": 5,
   "id": "70725cc3",
   "metadata": {},
   "outputs": [
    {
     "data": {
      "text/plain": [
       "array([[ 0.,  0.,  5., ...,  0.,  0.,  0.],\n",
       "       [ 0.,  0.,  0., ..., 10.,  0.,  0.],\n",
       "       [ 0.,  0.,  0., ..., 16.,  9.,  0.],\n",
       "       ...,\n",
       "       [ 0.,  0.,  1., ...,  6.,  0.,  0.],\n",
       "       [ 0.,  0.,  2., ..., 12.,  0.,  0.],\n",
       "       [ 0.,  0., 10., ..., 12.,  1.,  0.]])"
      ]
     },
     "execution_count": 5,
     "metadata": {},
     "output_type": "execute_result"
    }
   ],
   "source": [
    "ld.data"
   ]
  },
  {
   "cell_type": "code",
   "execution_count": 6,
   "id": "ce027473",
   "metadata": {},
   "outputs": [
    {
     "data": {
      "text/plain": [
       "(1797, 64)"
      ]
     },
     "execution_count": 6,
     "metadata": {},
     "output_type": "execute_result"
    }
   ],
   "source": [
    "ld.data.shape"
   ]
  },
  {
   "cell_type": "code",
   "execution_count": 7,
   "id": "bf739d4f",
   "metadata": {},
   "outputs": [
    {
     "data": {
      "text/plain": [
       "array([False, False, False, ..., False,  True, False])"
      ]
     },
     "execution_count": 7,
     "metadata": {},
     "output_type": "execute_result"
    }
   ],
   "source": [
    "y=(ld.target==9)\n",
    "y"
   ]
  },
  {
   "cell_type": "code",
   "execution_count": 12,
   "id": "2aa21973",
   "metadata": {},
   "outputs": [
    {
     "data": {
      "text/plain": [
       "array([False,  True])"
      ]
     },
     "execution_count": 12,
     "metadata": {},
     "output_type": "execute_result"
    }
   ],
   "source": [
    "\n",
    "a, b = np.unique(y, return_counts=True)\n",
    "a\n"
   ]
  },
  {
   "cell_type": "code",
   "execution_count": 13,
   "id": "94f9b801",
   "metadata": {},
   "outputs": [
    {
     "data": {
      "text/plain": [
       "array([1617,  180])"
      ]
     },
     "execution_count": 13,
     "metadata": {},
     "output_type": "execute_result"
    }
   ],
   "source": [
    "b"
   ]
  },
  {
   "cell_type": "code",
   "execution_count": 17,
   "id": "18168ae2",
   "metadata": {},
   "outputs": [
    {
     "data": {
      "text/plain": [
       "0.9888888888888889"
      ]
     },
     "execution_count": 17,
     "metadata": {},
     "output_type": "execute_result"
    }
   ],
   "source": [
    "from sklearn.model_selection import train_test_split as tts\n",
    "from sklearn.linear_model import LogisticRegression\n",
    "\n",
    "X_train, X_test, y_train, y_test = tts(ld.data,y,stratify=y, random_state=33)\n",
    "logreg = LogisticRegression(max_iter=10000)\n",
    "logreg.fit(X_train,y_train)\n",
    "score=logreg.score(X_test,y_test)\n",
    "score\n"
   ]
  },
  {
   "cell_type": "code",
   "execution_count": 21,
   "id": "7eb91dc9",
   "metadata": {},
   "outputs": [
    {
     "data": {
      "text/plain": [
       "array([False, False, False, False, False, False, False,  True, False,\n",
       "       False, False, False, False, False, False, False, False, False,\n",
       "       False, False, False, False, False, False, False, False, False,\n",
       "       False, False, False, False, False,  True, False, False, False,\n",
       "       False, False, False, False, False, False, False, False, False,\n",
       "       False, False, False,  True, False, False, False, False, False,\n",
       "       False, False, False, False, False, False,  True, False, False,\n",
       "       False, False, False, False, False, False, False, False, False,\n",
       "       False, False, False, False, False, False, False, False, False,\n",
       "       False, False, False, False,  True,  True, False, False, False,\n",
       "       False, False,  True, False, False,  True, False, False, False,\n",
       "       False, False, False, False, False, False, False, False, False,\n",
       "       False, False, False, False, False, False, False, False, False,\n",
       "       False, False, False, False, False, False, False,  True, False,\n",
       "       False, False,  True, False, False,  True, False, False, False,\n",
       "       False, False, False, False, False, False, False, False, False,\n",
       "       False, False, False, False, False, False, False, False, False,\n",
       "       False, False,  True, False, False, False, False, False, False,\n",
       "       False, False,  True, False, False, False, False, False, False,\n",
       "       False, False, False, False, False, False, False, False, False,\n",
       "        True, False, False, False, False, False,  True, False, False,\n",
       "       False, False, False, False, False, False, False,  True, False,\n",
       "       False, False, False, False, False, False, False, False, False,\n",
       "       False, False, False, False, False, False,  True, False, False,\n",
       "       False, False, False,  True, False, False, False, False, False,\n",
       "        True, False, False, False, False, False, False, False, False,\n",
       "       False, False, False, False, False,  True, False, False, False,\n",
       "       False, False, False, False, False, False,  True, False, False,\n",
       "        True, False, False, False, False, False, False, False, False,\n",
       "        True, False,  True, False, False, False, False, False, False,\n",
       "       False, False, False, False, False, False, False, False, False,\n",
       "        True,  True, False, False, False, False, False, False, False,\n",
       "       False, False,  True,  True, False, False, False,  True,  True,\n",
       "       False,  True, False, False, False, False, False, False, False,\n",
       "       False, False, False, False, False, False, False, False, False,\n",
       "       False, False, False, False, False, False, False, False, False,\n",
       "       False, False, False,  True, False, False,  True, False, False,\n",
       "       False, False, False, False, False, False, False, False, False,\n",
       "       False, False, False,  True, False, False, False, False, False,\n",
       "       False, False, False, False, False, False,  True, False,  True,\n",
       "       False, False, False, False, False, False, False, False,  True,\n",
       "       False,  True, False, False, False,  True, False, False, False,\n",
       "       False, False, False, False, False, False, False,  True, False,\n",
       "        True, False, False, False, False, False, False, False, False,\n",
       "        True, False, False, False, False, False, False, False, False,\n",
       "       False, False, False, False, False,  True, False, False, False,\n",
       "       False, False, False, False, False,  True, False, False, False,\n",
       "       False, False, False, False, False, False,  True, False, False,\n",
       "       False, False, False, False, False,  True, False, False, False,\n",
       "       False, False, False, False, False, False, False, False, False])"
      ]
     },
     "execution_count": 21,
     "metadata": {},
     "output_type": "execute_result"
    }
   ],
   "source": [
    "pl=logreg.predict(X_test)\n",
    "pl"
   ]
  },
  {
   "cell_type": "code",
   "execution_count": 22,
   "id": "024df1e6",
   "metadata": {},
   "outputs": [
    {
     "data": {
      "text/plain": [
       "array([False, False, False, False, False, False, False,  True, False,\n",
       "       False, False, False, False, False, False, False, False, False,\n",
       "       False, False, False, False, False, False, False, False, False,\n",
       "       False, False, False, False, False,  True, False, False, False,\n",
       "       False, False, False, False, False, False, False, False, False,\n",
       "       False, False, False,  True, False, False, False, False, False,\n",
       "       False, False, False, False, False, False,  True, False, False,\n",
       "       False, False, False, False, False, False, False, False, False,\n",
       "       False, False, False, False, False, False, False, False, False,\n",
       "       False, False, False, False,  True,  True, False, False, False,\n",
       "       False, False, False, False, False,  True, False, False, False,\n",
       "       False, False, False, False, False, False, False, False, False,\n",
       "       False, False, False, False, False, False, False, False, False,\n",
       "       False, False, False, False, False, False, False,  True, False,\n",
       "       False, False,  True, False, False,  True, False, False, False,\n",
       "       False, False, False, False, False, False, False, False, False,\n",
       "       False, False, False, False, False, False, False, False, False,\n",
       "       False, False,  True, False, False, False, False, False, False,\n",
       "       False, False,  True, False, False, False, False, False, False,\n",
       "       False, False, False, False, False, False, False, False, False,\n",
       "        True, False, False, False, False, False,  True, False, False,\n",
       "       False, False, False, False, False, False, False,  True, False,\n",
       "       False, False, False, False, False, False, False, False, False,\n",
       "       False, False, False, False, False, False,  True, False, False,\n",
       "       False, False, False,  True, False, False, False, False, False,\n",
       "        True, False, False, False, False, False, False, False, False,\n",
       "       False, False, False, False, False,  True, False, False, False,\n",
       "       False,  True, False, False, False, False,  True, False, False,\n",
       "        True, False, False, False, False, False, False, False, False,\n",
       "        True, False,  True, False, False, False, False, False, False,\n",
       "       False, False, False, False, False, False, False, False, False,\n",
       "       False,  True, False, False, False, False, False, False, False,\n",
       "       False, False,  True,  True, False, False, False,  True,  True,\n",
       "       False,  True, False, False, False, False, False, False, False,\n",
       "       False, False, False, False, False, False, False, False, False,\n",
       "        True, False, False, False, False, False, False, False, False,\n",
       "       False, False, False,  True, False, False,  True, False, False,\n",
       "       False, False, False, False, False, False, False, False, False,\n",
       "       False, False, False,  True, False, False, False, False, False,\n",
       "       False, False, False, False, False, False,  True, False,  True,\n",
       "       False, False, False, False, False, False, False, False,  True,\n",
       "       False,  True, False, False, False,  True, False, False, False,\n",
       "       False, False, False, False, False, False, False,  True, False,\n",
       "        True, False, False, False, False, False, False, False, False,\n",
       "        True, False, False, False, False, False, False, False, False,\n",
       "       False, False, False, False, False,  True, False, False, False,\n",
       "       False, False, False, False, False,  True, False, False, False,\n",
       "       False, False, False, False, False, False, False, False, False,\n",
       "       False, False, False, False, False,  True, False, False, False,\n",
       "       False, False, False, False, False, False, False, False, False])"
      ]
     },
     "execution_count": 22,
     "metadata": {},
     "output_type": "execute_result"
    }
   ],
   "source": [
    "y_test"
   ]
  },
  {
   "cell_type": "code",
   "execution_count": 27,
   "id": "98f85703",
   "metadata": {},
   "outputs": [
    {
     "data": {
      "text/plain": [
       "array([[402,   3],\n",
       "       [  2,  43]])"
      ]
     },
     "execution_count": 27,
     "metadata": {},
     "output_type": "execute_result"
    }
   ],
   "source": [
    "from sklearn.metrics import confusion_matrix\n",
    "confusion = confusion_matrix(y_test, pl) \n",
    "confusion"
   ]
  },
  {
   "cell_type": "code",
   "execution_count": 28,
   "id": "32b62df6",
   "metadata": {},
   "outputs": [
    {
     "data": {
      "text/plain": [
       "(450,)"
      ]
     },
     "execution_count": 28,
     "metadata": {},
     "output_type": "execute_result"
    }
   ],
   "source": [
    "y_test.shape"
   ]
  },
  {
   "cell_type": "code",
   "execution_count": 29,
   "id": "9df8c4c9",
   "metadata": {},
   "outputs": [
    {
     "data": {
      "text/plain": [
       "array([False,  True])"
      ]
     },
     "execution_count": 29,
     "metadata": {},
     "output_type": "execute_result"
    }
   ],
   "source": [
    "a, b = np.unique(y_test, return_counts=True)\n",
    "a"
   ]
  },
  {
   "cell_type": "code",
   "execution_count": 30,
   "id": "8196a824",
   "metadata": {},
   "outputs": [
    {
     "data": {
      "text/plain": [
       "array([405,  45])"
      ]
     },
     "execution_count": 30,
     "metadata": {},
     "output_type": "execute_result"
    }
   ],
   "source": [
    "b"
   ]
  },
  {
   "cell_type": "code",
   "execution_count": 32,
   "id": "c0fbbdcc",
   "metadata": {},
   "outputs": [
    {
     "data": {
      "text/plain": [
       "0.9347826086956522"
      ]
     },
     "execution_count": 32,
     "metadata": {},
     "output_type": "execute_result"
    }
   ],
   "source": [
    "from sklearn.metrics import precision_score\n",
    "precision=precision_score(y_test, pl)\n",
    "precision"
   ]
  },
  {
   "cell_type": "code",
   "execution_count": 33,
   "id": "ad4d99b8",
   "metadata": {},
   "outputs": [
    {
     "data": {
      "text/plain": [
       "0.9555555555555556"
      ]
     },
     "execution_count": 33,
     "metadata": {},
     "output_type": "execute_result"
    }
   ],
   "source": [
    "from sklearn.metrics import recall_score\n",
    "recall=recall_score(y_test, pl)\n",
    "recall"
   ]
  },
  {
   "cell_type": "code",
   "execution_count": 34,
   "id": "da211933",
   "metadata": {},
   "outputs": [
    {
     "data": {
      "text/plain": [
       "0.945054945054945"
      ]
     },
     "execution_count": 34,
     "metadata": {},
     "output_type": "execute_result"
    }
   ],
   "source": [
    "from sklearn.metrics import f1_score\n",
    "f1=f1_score(y_test, pl)\n",
    "f1"
   ]
  },
  {
   "cell_type": "code",
   "execution_count": 36,
   "id": "986e5f1c",
   "metadata": {},
   "outputs": [
    {
     "name": "stdout",
     "output_type": "stream",
     "text": [
      "              precision    recall  f1-score   support\n",
      "\n",
      "       False       1.00      0.99      0.99       405\n",
      "        True       0.93      0.96      0.95        45\n",
      "\n",
      "    accuracy                           0.99       450\n",
      "   macro avg       0.96      0.97      0.97       450\n",
      "weighted avg       0.99      0.99      0.99       450\n",
      "\n"
     ]
    }
   ],
   "source": [
    "from sklearn.metrics import classification_report\n",
    "cr=classification_report(y_test, pl)\n",
    "print(cr)"
   ]
  },
  {
   "cell_type": "code",
   "execution_count": 37,
   "id": "5d3eec47",
   "metadata": {},
   "outputs": [
    {
     "data": {
      "text/plain": [
       "array([-17.44390987,  -7.00708581, -20.0082024 , -24.27824554,\n",
       "       -15.36709433, -21.59167793, -12.63237995,  18.1775495 ,\n",
       "       -18.78019261,  -9.96650311,  -5.5775081 , -29.25410815,\n",
       "       -13.18063905, -15.13490882, -16.02159098, -24.95380759,\n",
       "       -53.20401321, -17.6916154 , -48.82404557, -35.59773294,\n",
       "       -28.37291638,  -5.03598816, -31.43962079, -16.39703952,\n",
       "       -33.49329612,  -7.76030589, -38.83430432, -67.80464802,\n",
       "       -27.79162449,  -9.89342095, -14.44338617,  -5.66760983,\n",
       "         7.00227663, -36.64724845, -15.17818754, -39.72621619,\n",
       "       -26.21419811, -35.19918241,  -0.29370332, -18.98786519,\n",
       "       -20.86861731, -47.64931435, -36.23257898, -19.59602034,\n",
       "       -11.63388662, -14.44831205,  -5.93169115,  -9.9603987 ,\n",
       "        13.64491376, -24.98926909, -31.83655175, -48.58099288,\n",
       "        -8.54648261,  -4.30287525,  -4.39706942, -35.55505526,\n",
       "        -8.99448197, -67.02482991, -22.38546031, -21.68417307,\n",
       "        15.81383957, -14.25648349, -25.11766111, -17.12888524,\n",
       "       -16.89839348, -29.15204958,  -4.55895783, -39.07336878,\n",
       "       -15.63332738, -16.27379039, -21.95706714, -58.33915979,\n",
       "       -18.69190953, -34.73830076, -45.77167004, -15.48644942,\n",
       "       -13.4665398 , -21.36046518, -22.79038518, -22.4133411 ,\n",
       "       -28.75148493,  -9.47656504, -13.19849849, -39.60358803,\n",
       "       -35.85312271,   9.54776026,   4.20988735, -39.9466553 ,\n",
       "        -0.29790471,  -4.31688679, -25.0026361 , -41.36301016,\n",
       "         5.21207252, -49.26394961, -28.33457332,  10.26612454,\n",
       "        -5.02595248, -54.48019083, -37.91214377,  -9.49382429,\n",
       "       -15.89207934, -21.24309827,  -8.77829736, -26.52193858,\n",
       "       -26.62833193, -19.45268222, -68.69103259, -15.45246076,\n",
       "       -22.21742206, -57.94674604, -18.95631541, -22.74568182,\n",
       "       -33.09135105, -20.00152351, -45.09722798, -39.44507226,\n",
       "       -17.18799718,  -9.31071972, -12.9421225 , -16.37639535,\n",
       "       -17.79516877, -21.52404079, -25.54367456, -19.27055361,\n",
       "        15.08174965, -27.74179181, -10.67418373, -68.22739586,\n",
       "         9.9663767 , -10.71364867, -17.69958645,   7.17318599,\n",
       "       -10.21121523, -16.46695233, -57.98762468, -21.56327676,\n",
       "       -35.43097384, -28.08584407, -39.16472521, -10.11774642,\n",
       "       -28.96333454, -70.2646688 , -35.85442083, -20.31521838,\n",
       "       -50.14837441, -20.18826375, -47.37369425, -18.9456832 ,\n",
       "       -52.53811095, -69.13169396, -35.40121338, -21.48087285,\n",
       "       -10.07438964, -13.91665614, -11.94158892,  13.99079276,\n",
       "        -7.4496202 ,  -4.8798742 ,  -1.82936184, -28.04604681,\n",
       "       -42.62873113, -47.69434415, -24.28299917, -29.13199827,\n",
       "        13.24902256, -18.8503477 ,  -4.43421731, -17.43815945,\n",
       "       -13.21879057, -12.39181374, -26.51751204,  -5.13037487,\n",
       "       -25.57101091, -49.70991709,  -7.27329088, -52.56278744,\n",
       "        -0.10542644, -19.77410889, -24.68188694, -56.74312946,\n",
       "        15.38808528, -16.49067826, -17.80849113, -40.1270418 ,\n",
       "       -47.81154872, -14.78363335,  16.31604611, -15.50832292,\n",
       "       -23.54105209, -23.09659904, -36.9109237 , -24.38018246,\n",
       "       -15.7824749 , -49.5192977 ,  -9.15540374, -17.50432266,\n",
       "        10.20172287, -43.98611089, -21.08589944, -30.75917362,\n",
       "       -14.11711874, -19.97523901, -46.79841252, -43.12320189,\n",
       "       -39.07212889, -27.46063307, -29.21464911, -59.69020616,\n",
       "       -38.57929166, -33.01503678, -18.2895446 ,  -7.75302969,\n",
       "       -39.53844775,   8.86722316, -17.08665747, -14.87996925,\n",
       "       -24.06361399, -46.52745426, -14.95024521,  13.04477524,\n",
       "       -29.27708319,  -3.62701261, -41.26848351, -25.75473904,\n",
       "       -22.09899937,  16.64519042, -50.90325347, -15.62259551,\n",
       "       -11.37802028, -14.73307155, -33.46536903, -14.41639971,\n",
       "       -22.09552119, -24.18578114, -35.14248044, -61.08110858,\n",
       "       -23.23492648, -12.44072965, -14.7413296 ,  12.23493747,\n",
       "        -8.26930324,  -9.87596774, -23.07652916, -43.3304273 ,\n",
       "        -1.46054228, -20.52220142, -35.85314696, -58.62516708,\n",
       "       -14.97468858,  10.93103604, -19.34324593, -17.99014011,\n",
       "        11.76661243, -11.93971465, -10.2400366 , -21.7743553 ,\n",
       "       -13.86217535, -20.83480267, -20.53862681, -24.1865283 ,\n",
       "        -8.75008932,   9.71923871, -18.00791705,   8.78991418,\n",
       "       -19.55605405, -11.7566451 , -10.47673444, -18.89355795,\n",
       "        -6.16000138, -48.07783636,  -7.71983769, -44.06441818,\n",
       "       -23.76927486, -42.80765697, -28.98708712, -51.24896764,\n",
       "       -30.29655607, -30.41359177, -10.17186764,   1.8622498 ,\n",
       "        11.05853509, -24.36942265, -13.84656425, -17.28659099,\n",
       "       -20.20577603, -11.04122655, -56.17054325, -21.80087177,\n",
       "        -4.5295018 , -13.1880696 ,  17.87809102,   8.26506294,\n",
       "       -56.33134729, -55.09939989, -13.58220681,  16.01976294,\n",
       "         5.31817529, -23.34598043,   2.11336374, -14.9534316 ,\n",
       "        -6.03460478, -51.19092608, -22.39559327, -11.33307001,\n",
       "       -16.4112152 , -51.9278848 , -20.35004461, -11.65733621,\n",
       "       -58.08088648, -49.77724809, -62.80754702, -40.02217004,\n",
       "       -22.64909361, -11.73354003, -23.27258957,  -0.40802518,\n",
       "       -31.60071497, -20.67866979, -54.34774765, -35.02016351,\n",
       "        -6.47243607, -13.55752034, -11.93067778, -11.28563444,\n",
       "       -24.85154592, -44.26365682, -36.12201718,  13.85529074,\n",
       "       -25.80210478, -35.35489294,   9.94775122, -50.30978738,\n",
       "        -9.6035375 , -17.70112153,  -1.09914424, -59.62843891,\n",
       "       -68.0750517 , -72.4533499 , -43.36143672,  -2.52874594,\n",
       "       -16.65391491,  -6.84288081, -54.02395081, -26.8161066 ,\n",
       "       -23.01150956,  17.047477  , -28.66193775, -10.89856697,\n",
       "       -20.39671493, -13.03393998, -20.36866541, -37.04181373,\n",
       "       -24.02404951, -19.18703696, -14.9279865 , -14.8130608 ,\n",
       "       -19.92198178,   9.09861906, -13.53693029,   3.09893582,\n",
       "       -70.83962328,  -3.31789443, -14.93858162, -25.58088567,\n",
       "       -20.08473317, -19.7019254 , -32.07499558, -15.4622608 ,\n",
       "        15.99704763, -14.05137705,  18.22823114, -70.41944084,\n",
       "       -13.37671207, -15.34361888,   0.81878473,  -1.67931781,\n",
       "        -5.75482563,  -4.89449233,  -7.22458211,  -7.87419947,\n",
       "       -14.59729789, -10.57364869, -21.01801483, -11.79773531,\n",
       "       -16.99103833,   2.24217851, -18.63554945,   9.20407012,\n",
       "       -73.39675714, -11.20432801, -25.37001839, -13.88308377,\n",
       "       -17.80388032, -28.33703851,  -8.15762655, -19.4597051 ,\n",
       "         5.20334634, -35.94948154, -22.87141254, -10.38358681,\n",
       "       -24.88085794, -14.94018699,  -6.11824027, -32.79447722,\n",
       "       -16.46711621, -36.92047485, -39.88204998, -13.48396418,\n",
       "       -30.19919814, -10.50748677,  11.4229696 , -22.24214554,\n",
       "       -29.16160423, -30.84665795,  -4.78767183, -66.58963549,\n",
       "       -14.21589555, -10.45581494,  -4.78750082,   5.28748656,\n",
       "        -9.82320505, -16.25239028, -39.43291373, -28.33271695,\n",
       "        -5.03605386, -66.87573264, -28.39001495, -48.70437707,\n",
       "        -9.64058365,   3.84311105, -18.53712868, -19.94024411,\n",
       "        -8.20719445, -22.83479624, -25.28498062, -13.59584676,\n",
       "       -38.17246948,  14.32721731, -18.80336022, -29.55031759,\n",
       "       -37.95460115, -53.14886404,  -1.11150599, -15.66587243,\n",
       "       -26.20159433, -49.18852992,  -9.59886645, -12.17484648,\n",
       "       -18.41005351, -17.58104562])"
      ]
     },
     "execution_count": 37,
     "metadata": {},
     "output_type": "execute_result"
    }
   ],
   "source": [
    "df=logreg.decision_function(X_test)\n",
    "df"
   ]
  },
  {
   "cell_type": "code",
   "execution_count": 38,
   "id": "08752fc4",
   "metadata": {},
   "outputs": [
    {
     "data": {
      "text/plain": [
       "(450,)"
      ]
     },
     "execution_count": 38,
     "metadata": {},
     "output_type": "execute_result"
    }
   ],
   "source": [
    "df.shape"
   ]
  },
  {
   "cell_type": "code",
   "execution_count": 39,
   "id": "34be9c96",
   "metadata": {},
   "outputs": [],
   "source": [
    "from sklearn.metrics import precision_recall_curve\n",
    "precision, recall, thresholds = precision_recall_curve(y_test,df)\n"
   ]
  },
  {
   "cell_type": "code",
   "execution_count": 40,
   "id": "ef373d4c",
   "metadata": {},
   "outputs": [
    {
     "data": {
      "text/plain": [
       "array([0.8490566 , 0.84615385, 0.8627451 , 0.88      , 0.87755102,\n",
       "       0.89583333, 0.91489362, 0.93478261, 0.93333333, 0.95454545,\n",
       "       0.95348837, 0.95238095, 0.95121951, 0.975     , 0.97435897,\n",
       "       0.97368421, 1.        , 1.        , 1.        , 1.        ,\n",
       "       1.        , 1.        , 1.        , 1.        , 1.        ,\n",
       "       1.        , 1.        , 1.        , 1.        , 1.        ,\n",
       "       1.        , 1.        , 1.        , 1.        , 1.        ,\n",
       "       1.        , 1.        , 1.        , 1.        , 1.        ,\n",
       "       1.        , 1.        , 1.        , 1.        , 1.        ,\n",
       "       1.        , 1.        , 1.        , 1.        , 1.        ,\n",
       "       1.        , 1.        , 1.        , 1.        ])"
      ]
     },
     "execution_count": 40,
     "metadata": {},
     "output_type": "execute_result"
    }
   ],
   "source": [
    "precision"
   ]
  },
  {
   "cell_type": "code",
   "execution_count": 41,
   "id": "c190fa93",
   "metadata": {},
   "outputs": [
    {
     "data": {
      "text/plain": [
       "array([1.        , 0.97777778, 0.97777778, 0.97777778, 0.95555556,\n",
       "       0.95555556, 0.95555556, 0.95555556, 0.93333333, 0.93333333,\n",
       "       0.91111111, 0.88888889, 0.86666667, 0.86666667, 0.84444444,\n",
       "       0.82222222, 0.82222222, 0.8       , 0.77777778, 0.75555556,\n",
       "       0.73333333, 0.71111111, 0.68888889, 0.66666667, 0.64444444,\n",
       "       0.62222222, 0.6       , 0.57777778, 0.55555556, 0.53333333,\n",
       "       0.51111111, 0.48888889, 0.46666667, 0.44444444, 0.42222222,\n",
       "       0.4       , 0.37777778, 0.35555556, 0.33333333, 0.31111111,\n",
       "       0.28888889, 0.26666667, 0.24444444, 0.22222222, 0.2       ,\n",
       "       0.17777778, 0.15555556, 0.13333333, 0.11111111, 0.08888889,\n",
       "       0.06666667, 0.04444444, 0.02222222, 0.        ])"
      ]
     },
     "execution_count": 41,
     "metadata": {},
     "output_type": "execute_result"
    }
   ],
   "source": [
    "recall"
   ]
  },
  {
   "cell_type": "code",
   "execution_count": 55,
   "id": "c3266975",
   "metadata": {},
   "outputs": [
    {
     "data": {
      "text/plain": [
       "(54,)"
      ]
     },
     "execution_count": 55,
     "metadata": {},
     "output_type": "execute_result"
    }
   ],
   "source": [
    "recall.shape"
   ]
  },
  {
   "cell_type": "code",
   "execution_count": 42,
   "id": "8294872b",
   "metadata": {
    "scrolled": true
   },
   "outputs": [
    {
     "data": {
      "text/plain": [
       "array([-1.46054228, -1.11150599, -1.09914424, -0.40802518, -0.29790471,\n",
       "       -0.29370332, -0.10542644,  0.81878473,  1.8622498 ,  2.11336374,\n",
       "        2.24217851,  3.09893582,  3.84311105,  4.20988735,  5.20334634,\n",
       "        5.21207252,  5.28748656,  5.31817529,  7.00227663,  7.17318599,\n",
       "        8.26506294,  8.78991418,  8.86722316,  9.09861906,  9.20407012,\n",
       "        9.54776026,  9.71923871,  9.94775122,  9.9663767 , 10.20172287,\n",
       "       10.26612454, 10.93103604, 11.05853509, 11.4229696 , 11.76661243,\n",
       "       12.23493747, 13.04477524, 13.24902256, 13.64491376, 13.85529074,\n",
       "       13.99079276, 14.32721731, 15.08174965, 15.38808528, 15.81383957,\n",
       "       15.99704763, 16.01976294, 16.31604611, 16.64519042, 17.047477  ,\n",
       "       17.87809102, 18.1775495 , 18.22823114])"
      ]
     },
     "execution_count": 42,
     "metadata": {},
     "output_type": "execute_result"
    }
   ],
   "source": [
    "thresholds"
   ]
  },
  {
   "cell_type": "code",
   "execution_count": 54,
   "id": "9176bf82",
   "metadata": {},
   "outputs": [
    {
     "data": {
      "text/plain": [
       "(14,)"
      ]
     },
     "execution_count": 54,
     "metadata": {},
     "output_type": "execute_result"
    }
   ],
   "source": [
    "thresholds.shape"
   ]
  },
  {
   "cell_type": "code",
   "execution_count": 46,
   "id": "8e986328",
   "metadata": {},
   "outputs": [
    {
     "data": {
      "text/plain": [
       "Text(0, 0.5, 'Recall')"
      ]
     },
     "execution_count": 46,
     "metadata": {},
     "output_type": "execute_result"
    },
    {
     "data": {
      "image/png": "[encoded data removed]",
      "text/plain": [
       "<Figure size 432x288 with 1 Axes>"
      ]
     },
     "metadata": {
      "needs_background": "light"
     },
     "output_type": "display_data"
    }
   ],
   "source": [
    "import matplotlib.pyplot as plt\n",
    "plt.plot(precision, recall)\n",
    "plt.xlabel(\"Precision\")\n",
    "plt.ylabel(\"Recall\")"
   ]
  },
  {
   "cell_type": "code",
   "execution_count": 47,
   "id": "2ae5912e",
   "metadata": {},
   "outputs": [
    {
     "data": {
      "text/plain": [
       "0.98830251035217"
      ]
     },
     "execution_count": 47,
     "metadata": {},
     "output_type": "execute_result"
    }
   ],
   "source": [
    "from sklearn.metrics import average_precision_score\n",
    "aps= average_precision_score(y_test,df)\n",
    "aps"
   ]
  },
  {
   "cell_type": "code",
   "execution_count": 48,
   "id": "6a214a3b",
   "metadata": {},
   "outputs": [],
   "source": [
    "from sklearn.metrics import roc_curve\n",
    "fpr, tpr, thresholds= roc_curve(y_test,df)"
   ]
  },
  {
   "cell_type": "code",
   "execution_count": 49,
   "id": "8d45498e",
   "metadata": {},
   "outputs": [
    {
     "data": {
      "text/plain": [
       "array([0.        , 0.        , 0.        , 0.00246914, 0.00246914,\n",
       "       0.00493827, 0.00493827, 0.00740741, 0.00740741, 0.01481481,\n",
       "       0.01481481, 0.01975309, 0.01975309, 1.        ])"
      ]
     },
     "execution_count": 49,
     "metadata": {},
     "output_type": "execute_result"
    }
   ],
   "source": [
    "fpr"
   ]
  },
  {
   "cell_type": "code",
   "execution_count": 50,
   "id": "dab3a4ca",
   "metadata": {},
   "outputs": [
    {
     "data": {
      "text/plain": [
       "(14,)"
      ]
     },
     "execution_count": 50,
     "metadata": {},
     "output_type": "execute_result"
    }
   ],
   "source": [
    "fpr.shape"
   ]
  },
  {
   "cell_type": "code",
   "execution_count": 51,
   "id": "e5087ed6",
   "metadata": {},
   "outputs": [
    {
     "data": {
      "text/plain": [
       "array([0.        , 0.02222222, 0.82222222, 0.82222222, 0.86666667,\n",
       "       0.86666667, 0.93333333, 0.93333333, 0.95555556, 0.95555556,\n",
       "       0.97777778, 0.97777778, 1.        , 1.        ])"
      ]
     },
     "execution_count": 51,
     "metadata": {},
     "output_type": "execute_result"
    }
   ],
   "source": [
    "tpr"
   ]
  },
  {
   "cell_type": "code",
   "execution_count": 52,
   "id": "cd62f8f5",
   "metadata": {},
   "outputs": [
    {
     "data": {
      "text/plain": [
       "(14,)"
      ]
     },
     "execution_count": 52,
     "metadata": {},
     "output_type": "execute_result"
    }
   ],
   "source": [
    "tpr.shape"
   ]
  },
  {
   "cell_type": "code",
   "execution_count": 56,
   "id": "86853abf",
   "metadata": {},
   "outputs": [
    {
     "data": {
      "text/plain": [
       "(14,)"
      ]
     },
     "execution_count": 56,
     "metadata": {},
     "output_type": "execute_result"
    }
   ],
   "source": [
    "thresholds.shape"
   ]
  },
  {
   "cell_type": "code",
   "execution_count": 53,
   "id": "13dba202",
   "metadata": {},
   "outputs": [
    {
     "data": {
      "text/plain": [
       "Text(0, 0.5, 'tpr')"
      ]
     },
     "execution_count": 53,
     "metadata": {},
     "output_type": "execute_result"
    },
    {
     "data": {
      "image/png": "[encoded data removed]",
      "text/plain": [
       "<Figure size 432x288 with 1 Axes>"
      ]
     },
     "metadata": {
      "needs_background": "light"
     },
     "output_type": "display_data"
    }
   ],
   "source": [
    "plt.plot(fpr, tpr)\n",
    "plt.xlabel(\"fpr\")\n",
    "plt.ylabel(\"tpr\")"
   ]
  },
  {
   "cell_type": "code",
   "execution_count": 57,
   "id": "6e64a00c",
   "metadata": {},
   "outputs": [
    {
     "data": {
      "text/plain": [
       "0.9986282578875172"
      ]
     },
     "execution_count": 57,
     "metadata": {},
     "output_type": "execute_result"
    }
   ],
   "source": [
    "from sklearn.metrics import roc_auc_score\n",
    "auc = roc_auc_score(y_test, df)\n",
    "auc"
   ]
  },
  {
   "cell_type": "code",
   "execution_count": 58,
   "id": "690b5a55",
   "metadata": {},
   "outputs": [
    {
     "data": {
      "text/plain": [
       "array([[9.99999973e-01, 2.65586617e-08],\n",
       "       [9.99095376e-01, 9.04624293e-04],\n",
       "       [9.99999998e-01, 2.04431635e-09],\n",
       "       [1.00000000e+00, 2.85819550e-11],\n",
       "       [9.99999788e-01, 2.11912044e-07],\n",
       "       [1.00000000e+00, 4.19617332e-10],\n",
       "       [9.99996735e-01, 3.26456769e-06],\n",
       "       [1.27523597e-08, 9.99999987e-01],\n",
       "       [9.99999993e-01, 6.98016962e-09],\n",
       "       [9.99953056e-01, 4.69442395e-05],\n",
       "       [9.96232271e-01, 3.76772865e-03],\n",
       "       [1.00000000e+00, 1.97288722e-13],\n",
       "       [9.99998113e-01, 1.88677613e-06],\n",
       "       [9.99999733e-01, 2.67296023e-07],\n",
       "       [9.99999890e-01, 1.10131461e-07],\n",
       "       [1.00000000e+00, 1.45445089e-11],\n",
       "       [1.00000000e+00, 7.83052079e-24],\n",
       "       [9.99999979e-01, 2.07314199e-08],\n",
       "       [1.00000000e+00, 6.25153152e-22],\n",
       "       [1.00000000e+00, 3.46817509e-16],\n",
       "       [1.00000000e+00, 4.76210516e-13],\n",
       "       [9.93542202e-01, 6.45779791e-03],\n",
       "       [1.00000000e+00, 2.21792153e-14],\n",
       "       [9.99999924e-01, 7.56582313e-08],\n",
       "       [1.00000000e+00, 2.84476447e-15],\n",
       "       [9.99573856e-01, 4.26144477e-04],\n",
       "       [1.00000000e+00, 1.36293746e-17],\n",
       "       [1.00000000e+00, 3.57121105e-30],\n",
       "       [1.00000000e+00, 8.51629781e-13],\n",
       "       [9.99949497e-01, 5.05033212e-05],\n",
       "       [9.99999466e-01, 5.33724152e-07],\n",
       "       [9.96555787e-01, 3.44421253e-03],\n",
       "       [9.08981311e-04, 9.99091019e-01],\n",
       "       [1.00000000e+00, 1.21423352e-16],\n",
       "       [9.99999744e-01, 2.55974554e-07],\n",
       "       [1.00000000e+00, 5.58629055e-18],\n",
       "       [1.00000000e+00, 4.12399769e-12],\n",
       "       [1.00000000e+00, 5.16641529e-16],\n",
       "       [5.72902524e-01, 4.27097476e-01],\n",
       "       [9.99999994e-01, 5.67119944e-09],\n",
       "       [9.99999999e-01, 8.64718312e-10],\n",
       "       [1.00000000e+00, 2.02379123e-21],\n",
       "       [1.00000000e+00, 1.83819205e-16],\n",
       "       [9.99999997e-01, 3.08714124e-09],\n",
       "       [9.99991139e-01, 8.86060528e-06],\n",
       "       [9.99999469e-01, 5.31101555e-07],\n",
       "       [9.97353035e-01, 2.64696488e-03],\n",
       "       [9.99952768e-01, 4.72316694e-05],\n",
       "       [1.18601104e-06, 9.99998814e-01],\n",
       "       [1.00000000e+00, 1.40377767e-11],\n",
       "       [1.00000000e+00, 1.49128707e-14],\n",
       "       [1.00000000e+00, 7.97155171e-22],\n",
       "       [9.99805811e-01, 1.94189355e-04],\n",
       "       [9.86651005e-01, 1.33489954e-02],\n",
       "       [9.87836403e-01, 1.21635974e-02],\n",
       "       [1.00000000e+00, 3.61939263e-16],\n",
       "       [9.99875923e-01, 1.24077269e-04],\n",
       "       [1.00000000e+00, 7.78908099e-30],\n",
       "       [1.00000000e+00, 1.89722183e-10],\n",
       "       [1.00000000e+00, 3.82545670e-10],\n",
       "       [1.35561598e-07, 9.99999864e-01],\n",
       "       [9.99999357e-01, 6.43409707e-07],\n",
       "       [1.00000000e+00, 1.23463443e-11],\n",
       "       [9.99999964e-01, 3.63931498e-08],\n",
       "       [9.99999954e-01, 4.58269486e-08],\n",
       "       [1.00000000e+00, 2.18487065e-13],\n",
       "       [9.89635578e-01, 1.03644217e-02],\n",
       "       [1.00000000e+00, 1.07312806e-17],\n",
       "       [9.99999838e-01, 1.62379842e-07],\n",
       "       [9.99999914e-01, 8.55820323e-08],\n",
       "       [1.00000000e+00, 2.91183593e-10],\n",
       "       [1.00000000e+00, 4.60919225e-26],\n",
       "       [9.99999992e-01, 7.62442038e-09],\n",
       "       [1.00000000e+00, 8.19120260e-16],\n",
       "       [1.00000000e+00, 1.32317191e-20],\n",
       "       [9.99999812e-01, 1.88070375e-07],\n",
       "       [9.99998582e-01, 1.41760572e-06],\n",
       "       [9.99999999e-01, 5.28771260e-10],\n",
       "       [1.00000000e+00, 1.26549804e-10],\n",
       "       [1.00000000e+00, 1.84505638e-10],\n",
       "       [1.00000000e+00, 3.26128498e-13],\n",
       "       [9.99923379e-01, 7.66208244e-05],\n",
       "       [9.99998147e-01, 1.85337855e-06],\n",
       "       [1.00000000e+00, 6.31510033e-18],\n",
       "       [1.00000000e+00, 2.68649878e-16],\n",
       "       [7.13558222e-05, 9.99928644e-01],\n",
       "       [1.46308021e-02, 9.85369198e-01],\n",
       "       [1.00000000e+00, 4.48113504e-18],\n",
       "       [5.73930227e-01, 4.26069773e-01],\n",
       "       [9.86834295e-01, 1.31657051e-02],\n",
       "       [1.00000000e+00, 1.38513821e-11],\n",
       "       [1.00000000e+00, 1.08710860e-18],\n",
       "       [5.42082053e-03, 9.94579179e-01],\n",
       "       [1.00000000e+00, 4.02660036e-22],\n",
       "       [1.00000000e+00, 4.94824462e-13],\n",
       "       [3.47907388e-05, 9.99965209e-01],\n",
       "       [9.93477492e-01, 6.52250777e-03],\n",
       "       [1.00000000e+00, 2.18551480e-24],\n",
       "       [1.00000000e+00, 3.42740294e-17],\n",
       "       [9.99924690e-01, 7.53098512e-05],\n",
       "       [9.99999875e-01, 1.25359596e-07],\n",
       "       [9.99999999e-01, 5.94620178e-10],\n",
       "       [9.99845984e-01, 1.54016412e-04],\n",
       "       [1.00000000e+00, 3.03157574e-12],\n",
       "       [1.00000000e+00, 2.72560163e-12],\n",
       "       [9.99999996e-01, 3.56293132e-09],\n",
       "       [1.00000000e+00, 1.47185013e-30],\n",
       "       [9.99999805e-01, 1.94572507e-07],\n",
       "       [1.00000000e+00, 2.24437899e-10],\n",
       "       [1.00000000e+00, 6.82414034e-26],\n",
       "       [9.99999994e-01, 5.85297699e-09],\n",
       "       [1.00000000e+00, 1.32335359e-10],\n",
       "       [1.00000000e+00, 4.25215259e-15],\n",
       "       [9.99999998e-01, 2.05801583e-09],\n",
       "       [1.00000000e+00, 2.59730373e-20],\n",
       "       [1.00000000e+00, 7.39984765e-18],\n",
       "       [9.99999966e-01, 3.43042282e-08],\n",
       "       [9.99909559e-01, 9.04412429e-05],\n",
       "       [9.99997605e-01, 2.39500582e-06],\n",
       "       [9.99999923e-01, 7.72363657e-08],\n",
       "       [9.99999981e-01, 1.86920266e-08],\n",
       "       [1.00000000e+00, 4.48980891e-10],\n",
       "       [1.00000000e+00, 8.06349077e-12],\n",
       "       [9.99999996e-01, 4.27469273e-09],\n",
       "       [2.81889714e-07, 9.99999718e-01],\n",
       "       [1.00000000e+00, 8.95143986e-13],\n",
       "       [9.99976866e-01, 2.31340069e-05],\n",
       "       [1.00000000e+00, 2.34001404e-30],\n",
       "       [4.69501738e-05, 9.99953050e-01],\n",
       "       [9.99977761e-01, 2.22388252e-05],\n",
       "       [9.99999979e-01, 2.05668255e-08],\n",
       "       [7.66287933e-04, 9.99233712e-01],\n",
       "       [9.99963246e-01, 3.67544231e-05],\n",
       "       [9.99999929e-01, 7.05494185e-08],\n",
       "       [1.00000000e+00, 6.55080367e-26],\n",
       "       [1.00000000e+00, 4.31705806e-10],\n",
       "       [1.00000000e+00, 4.09754350e-16],\n",
       "       [1.00000000e+00, 6.34560303e-13],\n",
       "       [1.00000000e+00, 9.79435762e-18],\n",
       "       [9.99959645e-01, 4.03553420e-05],\n",
       "       [1.00000000e+00, 2.63866120e-13],\n",
       "       [1.00000000e+00, 3.05099900e-31],\n",
       "       [1.00000000e+00, 2.68301366e-16],\n",
       "       [9.99999998e-01, 1.50387853e-09],\n",
       "       [1.00000000e+00, 1.66279120e-22],\n",
       "       [9.99999998e-01, 1.70745179e-09],\n",
       "       [1.00000000e+00, 2.66603594e-21],\n",
       "       [9.99999994e-01, 5.91553909e-09],\n",
       "       [1.00000000e+00, 1.52401178e-23],\n",
       "       [1.00000000e+00, 9.47298365e-31],\n",
       "       [1.00000000e+00, 4.22132100e-16],\n",
       "       [1.00000000e+00, 4.68786887e-10],\n",
       "       [9.99957857e-01, 4.21434287e-05],\n",
       "       [9.99999096e-01, 9.03800627e-07],\n",
       "       [9.99993486e-01, 6.51374869e-06],\n",
       "       [8.39219457e-07, 9.99999161e-01],\n",
       "       [9.99418676e-01, 5.81324349e-04],\n",
       "       [9.92459324e-01, 7.54067600e-03],\n",
       "       [8.61685686e-01, 1.38314314e-01],\n",
       "       [1.00000000e+00, 6.60323316e-13],\n",
       "       [1.00000000e+00, 3.06603634e-19],\n",
       "       [1.00000000e+00, 1.93468168e-21],\n",
       "       [1.00000000e+00, 2.84464093e-11],\n",
       "       [1.00000000e+00, 2.22912234e-13],\n",
       "       [1.76206468e-06, 9.99998238e-01],\n",
       "       [9.99999993e-01, 6.50725776e-09],\n",
       "       [9.88274764e-01, 1.17252361e-02],\n",
       "       [9.99999973e-01, 2.67118251e-08],\n",
       "       [9.99998184e-01, 1.81614872e-06],\n",
       "       [9.99995848e-01, 4.15242567e-06],\n",
       "       [1.00000000e+00, 3.04502489e-12],\n",
       "       [9.94120431e-01, 5.87956915e-03],\n",
       "       [1.00000000e+00, 7.84604992e-12],\n",
       "       [1.00000000e+00, 2.57784803e-22],\n",
       "       [9.99306656e-01, 6.93343882e-04],\n",
       "       [1.00000000e+00, 1.48686474e-23],\n",
       "       [5.26332226e-01, 4.73667774e-01],\n",
       "       [9.99999997e-01, 2.58353068e-09],\n",
       "       [1.00000000e+00, 1.90894185e-11],\n",
       "       [1.00000000e+00, 2.27390328e-25],\n",
       "       [2.07510169e-07, 9.99999792e-01],\n",
       "       [9.99999931e-01, 6.88952690e-08],\n",
       "       [9.99999982e-01, 1.84446562e-08],\n",
       "       [1.00000000e+00, 3.74151223e-18],\n",
       "       [1.00000000e+00, 1.72071214e-21],\n",
       "       [9.99999620e-01, 3.79795180e-07],\n",
       "       [8.20410430e-08, 9.99999918e-01],\n",
       "       [9.99999816e-01, 1.84001284e-07],\n",
       "       [1.00000000e+00, 5.97380412e-11],\n",
       "       [1.00000000e+00, 9.31696547e-11],\n",
       "       [1.00000000e+00, 9.32802098e-17],\n",
       "       [1.00000000e+00, 2.58119781e-11],\n",
       "       [9.99999860e-01, 1.39880823e-07],\n",
       "       [1.00000000e+00, 3.11919310e-22],\n",
       "       [9.99894364e-01, 1.05636207e-04],\n",
       "       [9.99999975e-01, 2.50016833e-08],\n",
       "       [3.71049575e-05, 9.99962895e-01],\n",
       "       [1.00000000e+00, 7.88995921e-20],\n",
       "       [9.99999999e-01, 6.95841343e-10],\n",
       "       [1.00000000e+00, 4.37986406e-14],\n",
       "       [9.99999260e-01, 7.39627260e-07],\n",
       "       [9.99999998e-01, 2.11282691e-09],\n",
       "       [1.00000000e+00, 4.73922883e-21],\n",
       "       [1.00000000e+00, 1.86995595e-19],\n",
       "       [1.00000000e+00, 1.07445945e-17],\n",
       "       [1.00000000e+00, 1.18576489e-12],\n",
       "       [1.00000000e+00, 2.05229176e-13],\n",
       "       [1.00000000e+00, 1.19363857e-26],\n",
       "       [1.00000000e+00, 1.75884074e-17],\n",
       "       [1.00000000e+00, 4.58935556e-15],\n",
       "       [9.99999989e-01, 1.14012298e-08],\n",
       "       [9.99570745e-01, 4.29255158e-04],\n",
       "       [1.00000000e+00, 6.74016176e-18],\n",
       "       [1.40913535e-04, 9.99859086e-01],\n",
       "       [9.99999962e-01, 3.79628605e-08],\n",
       "       [9.99999655e-01, 3.44914390e-07],\n",
       "       [1.00000000e+00, 3.54246224e-11],\n",
       "       [1.00000000e+00, 6.21417326e-21],\n",
       "       [9.99999678e-01, 3.21507318e-07],\n",
       "       [2.16135028e-06, 9.99997839e-01],\n",
       "       [1.00000000e+00, 1.92807677e-13],\n",
       "       [9.74093480e-01, 2.59065197e-02],\n",
       "       [1.00000000e+00, 1.19488287e-18],\n",
       "       [1.00000000e+00, 6.52918467e-12],\n",
       "       [1.00000000e+00, 2.52654197e-10],\n",
       "       [5.90317454e-08, 9.99999941e-01],\n",
       "       [1.00000000e+00, 7.81624037e-23],\n",
       "       [9.99999836e-01, 1.64131865e-07],\n",
       "       [9.99988556e-01, 1.14441517e-05],\n",
       "       [9.99999601e-01, 3.99492060e-07],\n",
       "       [1.00000000e+00, 2.92533019e-15],\n",
       "       [9.99999452e-01, 5.48323575e-07],\n",
       "       [1.00000000e+00, 2.53534503e-10],\n",
       "       [1.00000000e+00, 3.13508059e-11],\n",
       "       [1.00000000e+00, 5.46782575e-16],\n",
       "       [1.00000000e+00, 2.97037715e-27],\n",
       "       [1.00000000e+00, 8.11333934e-11],\n",
       "       [9.99996046e-01, 3.95419466e-06],\n",
       "       [9.99999604e-01, 3.96206618e-07],\n",
       "       [4.85771532e-06, 9.99995142e-01],\n",
       "       [9.99743802e-01, 2.56198130e-04],\n",
       "       [9.99948608e-01, 5.13924578e-05],\n",
       "       [1.00000000e+00, 9.50584487e-11],\n",
       "       [1.00000000e+00, 1.51996828e-19],\n",
       "       [8.11615600e-01, 1.88384400e-01],\n",
       "       [9.99999999e-01, 1.22270354e-09],\n",
       "       [1.00000000e+00, 2.68643364e-16],\n",
       "       [1.00000000e+00, 3.46268860e-26],\n",
       "       [9.99999686e-01, 3.13743867e-07],\n",
       "       [1.78938418e-05, 9.99982106e-01],\n",
       "       [9.99999996e-01, 3.97498073e-09],\n",
       "       [9.99999985e-01, 1.53808882e-08],\n",
       "       [7.75928640e-06, 9.99992241e-01],\n",
       "       [9.99993474e-01, 6.52596858e-06],\n",
       "       [9.99964290e-01, 3.57102674e-05],\n",
       "       [1.00000000e+00, 3.49556711e-10],\n",
       "       [9.99999046e-01, 9.54406361e-07],\n",
       "       [9.99999999e-01, 8.94458446e-10],\n",
       "       [9.99999999e-01, 1.20278418e-09],\n",
       "       [1.00000000e+00, 3.13273908e-11],\n",
       "       [9.99841578e-01, 1.58422071e-04],\n",
       "       [6.01121349e-05, 9.99939888e-01],\n",
       "       [9.99999985e-01, 1.51098791e-08],\n",
       "       [1.52237854e-04, 9.99847762e-01],\n",
       "       [9.99999997e-01, 3.21302155e-09],\n",
       "       [9.99992163e-01, 7.83701186e-06],\n",
       "       [9.99971816e-01, 2.81838167e-05],\n",
       "       [9.99999994e-01, 6.23206586e-09],\n",
       "       [9.97892202e-01, 2.10779816e-03],\n",
       "       [1.00000000e+00, 1.31844181e-21],\n",
       "       [9.99556264e-01, 4.43735666e-04],\n",
       "       [1.00000000e+00, 7.29568941e-20],\n",
       "       [1.00000000e+00, 4.75483106e-11],\n",
       "       [1.00000000e+00, 2.56372120e-19],\n",
       "       [1.00000000e+00, 2.57672469e-13],\n",
       "       [1.00000000e+00, 5.53166856e-23],\n",
       "       [1.00000000e+00, 6.95621311e-14],\n",
       "       [1.00000000e+00, 6.18792327e-14],\n",
       "       [9.99961771e-01, 3.82293938e-05],\n",
       "       [1.34441035e-01, 8.65558965e-01],\n",
       "       [1.57518800e-05, 9.99984248e-01],\n",
       "       [1.00000000e+00, 2.60912098e-11],\n",
       "       [9.99999031e-01, 9.69422584e-07],\n",
       "       [9.99999969e-01, 3.10834281e-08],\n",
       "       [9.99999998e-01, 1.67781072e-09],\n",
       "       [9.99983973e-01, 1.60268907e-05],\n",
       "       [1.00000000e+00, 4.03128054e-25],\n",
       "       [1.00000000e+00, 3.40409515e-10],\n",
       "       [9.89329049e-01, 1.06709509e-02],\n",
       "       [9.99998127e-01, 1.87280832e-06],\n",
       "       [1.72045659e-08, 9.99999983e-01],\n",
       "       [2.57286513e-04, 9.99742713e-01],\n",
       "       [1.00000000e+00, 3.43246971e-25],\n",
       "       [1.00000000e+00, 1.17661579e-24],\n",
       "       [9.99998737e-01, 1.26276339e-06],\n",
       "       [1.10332969e-07, 9.99999890e-01],\n",
       "       [4.87778037e-03, 9.95122220e-01],\n",
       "       [1.00000000e+00, 7.26055009e-11],\n",
       "       [1.07804705e-01, 8.92195295e-01],\n",
       "       [9.99999680e-01, 3.20484502e-07],\n",
       "       [9.97611277e-01, 2.38872300e-03],\n",
       "       [1.00000000e+00, 5.86223577e-23],\n",
       "       [1.00000000e+00, 1.87809443e-10],\n",
       "       [9.99988030e-01, 1.19703000e-05],\n",
       "       [9.99999925e-01, 7.45932904e-08],\n",
       "       [1.00000000e+00, 2.80547354e-23],\n",
       "       [9.99999999e-01, 1.45240561e-09],\n",
       "       [9.99991345e-01, 8.65524667e-06],\n",
       "       [1.00000000e+00, 5.96748720e-26],\n",
       "       [1.00000000e+00, 2.40999327e-22],\n",
       "       [1.00000000e+00, 5.28480427e-28],\n",
       "       [1.00000000e+00, 4.15520447e-18],\n",
       "       [1.00000000e+00, 1.45755055e-10],\n",
       "       [9.99991980e-01, 8.02019314e-06],\n",
       "       [1.00000000e+00, 7.81344881e-11],\n",
       "       [6.00614260e-01, 3.99385740e-01],\n",
       "       [1.00000000e+00, 1.88792121e-14],\n",
       "       [9.99999999e-01, 1.04560540e-09],\n",
       "       [1.00000000e+00, 2.49501459e-24],\n",
       "       [1.00000000e+00, 6.17925665e-16],\n",
       "       [9.98456928e-01, 1.54307155e-03],\n",
       "       [9.99998706e-01, 1.29432449e-06],\n",
       "       [9.99993415e-01, 6.58520976e-06],\n",
       "       [9.99987448e-01, 1.25517935e-05],\n",
       "       [1.00000000e+00, 1.61105639e-11],\n",
       "       [1.00000000e+00, 5.97775479e-20],\n",
       "       [1.00000000e+00, 2.05308657e-16],\n",
       "       [9.60999737e-07, 9.99999039e-01],\n",
       "       [1.00000000e+00, 6.22713487e-12],\n",
       "       [1.00000000e+00, 4.42145378e-16],\n",
       "       [4.78327955e-05, 9.99952167e-01],\n",
       "       [1.00000000e+00, 1.41493651e-22],\n",
       "       [9.99932515e-01, 6.74850148e-05],\n",
       "       [9.99999979e-01, 2.05352780e-08],\n",
       "       [7.50099727e-01, 2.49900273e-01],\n",
       "       [1.00000000e+00, 1.26969093e-26],\n",
       "       [1.00000000e+00, 2.72508899e-30],\n",
       "       [1.00000000e+00, 3.41908536e-32],\n",
       "       [1.00000000e+00, 1.47355824e-19],\n",
       "       [9.26132608e-01, 7.38673923e-02],\n",
       "       [9.99999941e-01, 5.85189639e-08],\n",
       "       [9.98934112e-01, 1.06588774e-03],\n",
       "       [1.00000000e+00, 3.44902443e-24],\n",
       "       [1.00000000e+00, 2.25898256e-12],\n",
       "       [1.00000000e+00, 1.01444470e-10],\n",
       "       [3.94797863e-08, 9.99999961e-01],\n",
       "       [1.00000000e+00, 3.56679865e-13],\n",
       "       [9.99981516e-01, 1.84843625e-05],\n",
       "       [9.99999999e-01, 1.38617881e-09],\n",
       "       [9.99997815e-01, 2.18489635e-06],\n",
       "       [9.99999999e-01, 1.42561090e-09],\n",
       "       [1.00000000e+00, 8.18360569e-17],\n",
       "       [1.00000000e+00, 3.68542743e-11],\n",
       "       [9.99999995e-01, 4.64703265e-09],\n",
       "       [9.99999671e-01, 3.28743894e-07],\n",
       "       [9.99999631e-01, 3.68781627e-07],\n",
       "       [9.99999998e-01, 2.22840047e-09],\n",
       "       [1.11807616e-04, 9.99888192e-01],\n",
       "       [9.99998679e-01, 1.32125091e-06],\n",
       "       [4.31511728e-02, 9.56848827e-01],\n",
       "       [1.00000000e+00, 1.71689015e-31],\n",
       "       [9.65037619e-01, 3.49623811e-02],\n",
       "       [9.99999675e-01, 3.25279202e-07],\n",
       "       [1.00000000e+00, 7.76895328e-12],\n",
       "       [9.99999998e-01, 1.89370015e-09],\n",
       "       [9.99999997e-01, 2.77691455e-09],\n",
       "       [1.00000000e+00, 1.17491490e-14],\n",
       "       [9.99999807e-01, 1.92675002e-07],\n",
       "       [1.12867898e-07, 9.99999887e-01],\n",
       "       [9.99999210e-01, 7.89885501e-07],\n",
       "       [1.21221541e-08, 9.99999988e-01],\n",
       "       [1.00000000e+00, 2.61351758e-31],\n",
       "       [9.99998449e-01, 1.55084033e-06],\n",
       "       [9.99999783e-01, 2.16945624e-07],\n",
       "       [3.06021688e-01, 6.93978312e-01],\n",
       "       [8.42814177e-01, 1.57185823e-01],\n",
       "       [9.96842542e-01, 3.15745775e-03],\n",
       "       [9.92567940e-01, 7.43206043e-03],\n",
       "       [9.99272073e-01, 7.27926626e-04],\n",
       "       [9.99619711e-01, 3.80288709e-04],\n",
       "       [9.99999542e-01, 4.57587211e-07],\n",
       "       [9.99974419e-01, 2.55806519e-05],\n",
       "       [9.99999999e-01, 7.44718489e-10],\n",
       "       [9.99992478e-01, 7.52151612e-06],\n",
       "       [9.99999958e-01, 4.17720506e-08],\n",
       "       [9.60262692e-02, 9.03973731e-01],\n",
       "       [9.99999992e-01, 8.06647335e-09],\n",
       "       [1.00618870e-04, 9.99899381e-01],\n",
       "       [1.00000000e+00, 1.33104698e-32],\n",
       "       [9.99986385e-01, 1.36149565e-05],\n",
       "       [1.00000000e+00, 9.59270319e-12],\n",
       "       [9.99999065e-01, 9.34658417e-07],\n",
       "       [9.99999981e-01, 1.85298972e-08],\n",
       "       [1.00000000e+00, 4.93606125e-13],\n",
       "       [9.99713540e-01, 2.86459598e-04],\n",
       "       [9.99999996e-01, 3.53799696e-09],\n",
       "       [5.46807077e-03, 9.94531929e-01],\n",
       "       [1.00000000e+00, 2.43971187e-16],\n",
       "       [1.00000000e+00, 1.16700238e-10],\n",
       "       [9.99969065e-01, 3.09351417e-05],\n",
       "       [1.00000000e+00, 1.56451847e-11],\n",
       "       [9.99999675e-01, 3.24757427e-07],\n",
       "       [9.97802512e-01, 2.19748847e-03],\n",
       "       [1.00000000e+00, 5.72189004e-15],\n",
       "       [9.99999929e-01, 7.05378576e-08],\n",
       "       [1.00000000e+00, 9.23935179e-17],\n",
       "       [1.00000000e+00, 4.78019670e-18],\n",
       "       [9.99998607e-01, 1.39311881e-06],\n",
       "       [1.00000000e+00, 7.66751950e-14],\n",
       "       [9.99972670e-01, 2.73303131e-05],\n",
       "       [1.09411403e-05, 9.99989059e-01],\n",
       "       [1.00000000e+00, 2.18957046e-10],\n",
       "       [1.00000000e+00, 2.16409438e-13],\n",
       "       [1.00000000e+00, 4.01297698e-14],\n",
       "       [9.91737013e-01, 8.26298695e-03],\n",
       "       [1.00000000e+00, 1.20361822e-29],\n",
       "       [9.99999330e-01, 6.70061575e-07],\n",
       "       [9.99971220e-01, 2.87796011e-05],\n",
       "       [9.91735612e-01, 8.26438837e-03],\n",
       "       [5.02902940e-03, 9.94970971e-01],\n",
       "       [9.99945823e-01, 5.41767217e-05],\n",
       "       [9.99999913e-01, 8.74332347e-08],\n",
       "       [1.00000000e+00, 7.49036811e-18],\n",
       "       [1.00000000e+00, 4.95743894e-13],\n",
       "       [9.93542624e-01, 6.45737637e-03],\n",
       "       [1.00000000e+00, 9.04145529e-30],\n",
       "       [1.00000000e+00, 4.68137213e-13],\n",
       "       [1.00000000e+00, 7.04624591e-22],\n",
       "       [9.99934969e-01, 6.50308567e-05],\n",
       "       [2.09773592e-02, 9.79022641e-01],\n",
       "       [9.99999991e-01, 8.90076429e-09],\n",
       "       [9.99999998e-01, 2.18807405e-09],\n",
       "       [9.99727390e-01, 2.72610343e-04],\n",
       "       [1.00000000e+00, 1.21052565e-10],\n",
       "       [1.00000000e+00, 1.04441342e-11],\n",
       "       [9.99998754e-01, 1.24565631e-06],\n",
       "       [1.00000000e+00, 2.64184386e-17],\n",
       "       [5.99471197e-07, 9.99999401e-01],\n",
       "       [9.99999993e-01, 6.82031464e-09],\n",
       "       [1.00000000e+00, 1.46710140e-13],\n",
       "       [1.00000000e+00, 3.28493029e-17],\n",
       "       [1.00000000e+00, 8.27449748e-24],\n",
       "       [7.52409768e-01, 2.47590232e-01],\n",
       "       [9.99999843e-01, 1.57180252e-07],\n",
       "       [1.00000000e+00, 4.17630459e-12],\n",
       "       [1.00000000e+00, 4.34203064e-22],\n",
       "       [9.99932199e-01, 6.78009569e-05],\n",
       "       [9.99994841e-01, 5.15856749e-06],\n",
       "       [9.99999990e-01, 1.01068390e-08],\n",
       "       [9.99999977e-01, 2.31552190e-08]])"
      ]
     },
     "execution_count": 58,
     "metadata": {},
     "output_type": "execute_result"
    }
   ],
   "source": [
    "pp=logreg.predict_proba(X_test)\n",
    "pp"
   ]
  },
  {
   "cell_type": "code",
   "execution_count": 59,
   "id": "89b673fb",
   "metadata": {},
   "outputs": [
    {
     "data": {
      "text/plain": [
       "(450, 2)"
      ]
     },
     "execution_count": 59,
     "metadata": {},
     "output_type": "execute_result"
    }
   ],
   "source": [
    "pp.shape"
   ]
  },
  {
   "cell_type": "code",
   "execution_count": 60,
   "id": "16fc7b4f",
   "metadata": {},
   "outputs": [
    {
     "data": {
      "text/plain": [
       "array([2.65586617e-08, 9.04624293e-04, 2.04431635e-09, 2.85819550e-11,\n",
       "       2.11912044e-07, 4.19617332e-10, 3.26456769e-06, 9.99999987e-01,\n",
       "       6.98016962e-09, 4.69442395e-05, 3.76772865e-03, 1.97288722e-13,\n",
       "       1.88677613e-06, 2.67296023e-07, 1.10131461e-07, 1.45445089e-11,\n",
       "       7.83052079e-24, 2.07314199e-08, 6.25153152e-22, 3.46817509e-16,\n",
       "       4.76210516e-13, 6.45779791e-03, 2.21792153e-14, 7.56582313e-08,\n",
       "       2.84476447e-15, 4.26144477e-04, 1.36293746e-17, 3.57121105e-30,\n",
       "       8.51629781e-13, 5.05033212e-05, 5.33724152e-07, 3.44421253e-03,\n",
       "       9.99091019e-01, 1.21423352e-16, 2.55974554e-07, 5.58629055e-18,\n",
       "       4.12399769e-12, 5.16641529e-16, 4.27097476e-01, 5.67119944e-09,\n",
       "       8.64718312e-10, 2.02379123e-21, 1.83819205e-16, 3.08714124e-09,\n",
       "       8.86060528e-06, 5.31101555e-07, 2.64696488e-03, 4.72316694e-05,\n",
       "       9.99998814e-01, 1.40377767e-11, 1.49128707e-14, 7.97155171e-22,\n",
       "       1.94189355e-04, 1.33489954e-02, 1.21635974e-02, 3.61939263e-16,\n",
       "       1.24077269e-04, 7.78908099e-30, 1.89722183e-10, 3.82545670e-10,\n",
       "       9.99999864e-01, 6.43409707e-07, 1.23463443e-11, 3.63931498e-08,\n",
       "       4.58269486e-08, 2.18487065e-13, 1.03644217e-02, 1.07312806e-17,\n",
       "       1.62379842e-07, 8.55820323e-08, 2.91183593e-10, 4.60919225e-26,\n",
       "       7.62442038e-09, 8.19120260e-16, 1.32317191e-20, 1.88070375e-07,\n",
       "       1.41760572e-06, 5.28771260e-10, 1.26549804e-10, 1.84505638e-10,\n",
       "       3.26128498e-13, 7.66208244e-05, 1.85337855e-06, 6.31510033e-18,\n",
       "       2.68649878e-16, 9.99928644e-01, 9.85369198e-01, 4.48113504e-18,\n",
       "       4.26069773e-01, 1.31657051e-02, 1.38513821e-11, 1.08710860e-18,\n",
       "       9.94579179e-01, 4.02660036e-22, 4.94824462e-13, 9.99965209e-01,\n",
       "       6.52250777e-03, 2.18551480e-24, 3.42740294e-17, 7.53098512e-05,\n",
       "       1.25359596e-07, 5.94620178e-10, 1.54016412e-04, 3.03157574e-12,\n",
       "       2.72560163e-12, 3.56293132e-09, 1.47185013e-30, 1.94572507e-07,\n",
       "       2.24437899e-10, 6.82414034e-26, 5.85297699e-09, 1.32335359e-10,\n",
       "       4.25215259e-15, 2.05801583e-09, 2.59730373e-20, 7.39984765e-18,\n",
       "       3.43042282e-08, 9.04412429e-05, 2.39500582e-06, 7.72363657e-08,\n",
       "       1.86920266e-08, 4.48980891e-10, 8.06349077e-12, 4.27469273e-09,\n",
       "       9.99999718e-01, 8.95143986e-13, 2.31340069e-05, 2.34001404e-30,\n",
       "       9.99953050e-01, 2.22388252e-05, 2.05668255e-08, 9.99233712e-01,\n",
       "       3.67544231e-05, 7.05494185e-08, 6.55080367e-26, 4.31705806e-10,\n",
       "       4.09754350e-16, 6.34560303e-13, 9.79435762e-18, 4.03553420e-05,\n",
       "       2.63866120e-13, 3.05099900e-31, 2.68301366e-16, 1.50387853e-09,\n",
       "       1.66279120e-22, 1.70745179e-09, 2.66603594e-21, 5.91553909e-09,\n",
       "       1.52401178e-23, 9.47298365e-31, 4.22132100e-16, 4.68786887e-10,\n",
       "       4.21434287e-05, 9.03800627e-07, 6.51374869e-06, 9.99999161e-01,\n",
       "       5.81324349e-04, 7.54067600e-03, 1.38314314e-01, 6.60323316e-13,\n",
       "       3.06603634e-19, 1.93468168e-21, 2.84464093e-11, 2.22912234e-13,\n",
       "       9.99998238e-01, 6.50725776e-09, 1.17252361e-02, 2.67118251e-08,\n",
       "       1.81614872e-06, 4.15242567e-06, 3.04502489e-12, 5.87956915e-03,\n",
       "       7.84604992e-12, 2.57784803e-22, 6.93343882e-04, 1.48686474e-23,\n",
       "       4.73667774e-01, 2.58353068e-09, 1.90894185e-11, 2.27390328e-25,\n",
       "       9.99999792e-01, 6.88952690e-08, 1.84446562e-08, 3.74151223e-18,\n",
       "       1.72071214e-21, 3.79795180e-07, 9.99999918e-01, 1.84001284e-07,\n",
       "       5.97380412e-11, 9.31696547e-11, 9.32802098e-17, 2.58119781e-11,\n",
       "       1.39880823e-07, 3.11919310e-22, 1.05636207e-04, 2.50016833e-08,\n",
       "       9.99962895e-01, 7.88995921e-20, 6.95841343e-10, 4.37986406e-14,\n",
       "       7.39627260e-07, 2.11282691e-09, 4.73922883e-21, 1.86995595e-19,\n",
       "       1.07445945e-17, 1.18576489e-12, 2.05229176e-13, 1.19363857e-26,\n",
       "       1.75884074e-17, 4.58935556e-15, 1.14012298e-08, 4.29255158e-04,\n",
       "       6.74016176e-18, 9.99859086e-01, 3.79628605e-08, 3.44914390e-07,\n",
       "       3.54246224e-11, 6.21417326e-21, 3.21507318e-07, 9.99997839e-01,\n",
       "       1.92807677e-13, 2.59065197e-02, 1.19488287e-18, 6.52918467e-12,\n",
       "       2.52654197e-10, 9.99999941e-01, 7.81624037e-23, 1.64131865e-07,\n",
       "       1.14441517e-05, 3.99492060e-07, 2.92533019e-15, 5.48323575e-07,\n",
       "       2.53534503e-10, 3.13508059e-11, 5.46782575e-16, 2.97037715e-27,\n",
       "       8.11333934e-11, 3.95419466e-06, 3.96206618e-07, 9.99995142e-01,\n",
       "       2.56198130e-04, 5.13924578e-05, 9.50584487e-11, 1.51996828e-19,\n",
       "       1.88384400e-01, 1.22270354e-09, 2.68643364e-16, 3.46268860e-26,\n",
       "       3.13743867e-07, 9.99982106e-01, 3.97498073e-09, 1.53808882e-08,\n",
       "       9.99992241e-01, 6.52596858e-06, 3.57102674e-05, 3.49556711e-10,\n",
       "       9.54406361e-07, 8.94458446e-10, 1.20278418e-09, 3.13273908e-11,\n",
       "       1.58422071e-04, 9.99939888e-01, 1.51098791e-08, 9.99847762e-01,\n",
       "       3.21302155e-09, 7.83701186e-06, 2.81838167e-05, 6.23206586e-09,\n",
       "       2.10779816e-03, 1.31844181e-21, 4.43735666e-04, 7.29568941e-20,\n",
       "       4.75483106e-11, 2.56372120e-19, 2.57672469e-13, 5.53166856e-23,\n",
       "       6.95621311e-14, 6.18792327e-14, 3.82293938e-05, 8.65558965e-01,\n",
       "       9.99984248e-01, 2.60912098e-11, 9.69422584e-07, 3.10834281e-08,\n",
       "       1.67781072e-09, 1.60268907e-05, 4.03128054e-25, 3.40409515e-10,\n",
       "       1.06709509e-02, 1.87280832e-06, 9.99999983e-01, 9.99742713e-01,\n",
       "       3.43246971e-25, 1.17661579e-24, 1.26276339e-06, 9.99999890e-01,\n",
       "       9.95122220e-01, 7.26055009e-11, 8.92195295e-01, 3.20484502e-07,\n",
       "       2.38872300e-03, 5.86223577e-23, 1.87809443e-10, 1.19703000e-05,\n",
       "       7.45932904e-08, 2.80547354e-23, 1.45240561e-09, 8.65524667e-06,\n",
       "       5.96748720e-26, 2.40999327e-22, 5.28480427e-28, 4.15520447e-18,\n",
       "       1.45755055e-10, 8.02019314e-06, 7.81344881e-11, 3.99385740e-01,\n",
       "       1.88792121e-14, 1.04560540e-09, 2.49501459e-24, 6.17925665e-16,\n",
       "       1.54307155e-03, 1.29432449e-06, 6.58520976e-06, 1.25517935e-05,\n",
       "       1.61105639e-11, 5.97775479e-20, 2.05308657e-16, 9.99999039e-01,\n",
       "       6.22713487e-12, 4.42145378e-16, 9.99952167e-01, 1.41493651e-22,\n",
       "       6.74850148e-05, 2.05352780e-08, 2.49900273e-01, 1.26969093e-26,\n",
       "       2.72508899e-30, 3.41908536e-32, 1.47355824e-19, 7.38673923e-02,\n",
       "       5.85189639e-08, 1.06588774e-03, 3.44902443e-24, 2.25898256e-12,\n",
       "       1.01444470e-10, 9.99999961e-01, 3.56679865e-13, 1.84843625e-05,\n",
       "       1.38617881e-09, 2.18489635e-06, 1.42561090e-09, 8.18360569e-17,\n",
       "       3.68542743e-11, 4.64703265e-09, 3.28743894e-07, 3.68781627e-07,\n",
       "       2.22840047e-09, 9.99888192e-01, 1.32125091e-06, 9.56848827e-01,\n",
       "       1.71689015e-31, 3.49623811e-02, 3.25279202e-07, 7.76895328e-12,\n",
       "       1.89370015e-09, 2.77691455e-09, 1.17491490e-14, 1.92675002e-07,\n",
       "       9.99999887e-01, 7.89885501e-07, 9.99999988e-01, 2.61351758e-31,\n",
       "       1.55084033e-06, 2.16945624e-07, 6.93978312e-01, 1.57185823e-01,\n",
       "       3.15745775e-03, 7.43206043e-03, 7.27926626e-04, 3.80288709e-04,\n",
       "       4.57587211e-07, 2.55806519e-05, 7.44718489e-10, 7.52151612e-06,\n",
       "       4.17720506e-08, 9.03973731e-01, 8.06647335e-09, 9.99899381e-01,\n",
       "       1.33104698e-32, 1.36149565e-05, 9.59270319e-12, 9.34658417e-07,\n",
       "       1.85298972e-08, 4.93606125e-13, 2.86459598e-04, 3.53799696e-09,\n",
       "       9.94531929e-01, 2.43971187e-16, 1.16700238e-10, 3.09351417e-05,\n",
       "       1.56451847e-11, 3.24757427e-07, 2.19748847e-03, 5.72189004e-15,\n",
       "       7.05378576e-08, 9.23935179e-17, 4.78019670e-18, 1.39311881e-06,\n",
       "       7.66751950e-14, 2.73303131e-05, 9.99989059e-01, 2.18957046e-10,\n",
       "       2.16409438e-13, 4.01297698e-14, 8.26298695e-03, 1.20361822e-29,\n",
       "       6.70061575e-07, 2.87796011e-05, 8.26438837e-03, 9.94970971e-01,\n",
       "       5.41767217e-05, 8.74332347e-08, 7.49036811e-18, 4.95743894e-13,\n",
       "       6.45737637e-03, 9.04145529e-30, 4.68137213e-13, 7.04624591e-22,\n",
       "       6.50308567e-05, 9.79022641e-01, 8.90076429e-09, 2.18807405e-09,\n",
       "       2.72610343e-04, 1.21052565e-10, 1.04441342e-11, 1.24565631e-06,\n",
       "       2.64184386e-17, 9.99999401e-01, 6.82031464e-09, 1.46710140e-13,\n",
       "       3.28493029e-17, 8.27449748e-24, 2.47590232e-01, 1.57180252e-07,\n",
       "       4.17630459e-12, 4.34203064e-22, 6.78009569e-05, 5.15856749e-06,\n",
       "       1.01068390e-08, 2.31552190e-08])"
      ]
     },
     "execution_count": 60,
     "metadata": {},
     "output_type": "execute_result"
    }
   ],
   "source": [
    "pp[:,1]"
   ]
  },
  {
   "cell_type": "code",
   "execution_count": 61,
   "id": "c6a113ce",
   "metadata": {},
   "outputs": [
    {
     "data": {
      "text/plain": [
       "(450,)"
      ]
     },
     "execution_count": 61,
     "metadata": {},
     "output_type": "execute_result"
    }
   ],
   "source": [
    "pp[:,1].shape"
   ]
  },
  {
   "cell_type": "code",
   "execution_count": 62,
   "id": "e5fa2b5e",
   "metadata": {},
   "outputs": [
    {
     "data": {
      "text/plain": [
       "Text(0, 0.5, 'tpr')"
      ]
     },
     "execution_count": 62,
     "metadata": {},
     "output_type": "execute_result"
    },
    {
     "data": {
      "image/png": "[encoded data removed]",
      "text/plain": [
       "<Figure size 432x288 with 1 Axes>"
      ]
     },
     "metadata": {
      "needs_background": "light"
     },
     "output_type": "display_data"
    }
   ],
   "source": [
    "fpr, tpr, thresholds= roc_curve(y_test,pp[:,1])\n",
    "plt.plot(fpr, tpr)\n",
    "plt.xlabel(\"fpr\")\n",
    "plt.ylabel(\"tpr\")"
   ]
  },
  {
   "cell_type": "code",
   "execution_count": 63,
   "id": "28d643ed",
   "metadata": {},
   "outputs": [
    {
     "data": {
      "text/plain": [
       "0.9986282578875172"
      ]
     },
     "execution_count": 63,
     "metadata": {},
     "output_type": "execute_result"
    }
   ],
   "source": [
    "auc = roc_auc_score(y_test,pp[:,1])\n",
    "auc"
   ]
  },
  {
   "cell_type": "code",
   "execution_count": null,
   "id": "836bade3",
   "metadata": {},
   "outputs": [],
   "source": []
  }
 ],
 "metadata": {
  "kernelspec": {
   "display_name": "Python 3 (ipykernel)",
   "language": "python",
   "name": "python3"
  },
  "language_info": {
   "codemirror_mode": {
    "name": "ipython",
    "version": 3
   },
   "file_extension": ".py",
   "mimetype": "text/x-python",
   "name": "python",
   "nbconvert_exporter": "python",
   "pygments_lexer": "ipython3",
   "version": "3.9.7"
  }
 },
 "nbformat": 4,
 "nbformat_minor": 5
}
