{
 "cells": [
  {
   "cell_type": "code",
   "execution_count": 1,
   "id": "58b4cb80",
   "metadata": {},
   "outputs": [
    {
     "name": "stdout",
     "output_type": "stream",
     "text": [
      "[[ 0.23826153  0.63453313]\n",
      " [ 0.58767501 -0.74230194]\n",
      " [-0.78697051 -0.23001584]]\n",
      "[-2.36120034  1.106282    0.4520171 ]\n",
      "[0 2 1 1]\n"
     ]
    }
   ],
   "source": [
    "import pandas as pd\n",
    "import numpy as np\n",
    "from sklearn.datasets import make_blobs\n",
    "from sklearn.model_selection import train_test_split as tts\n",
    "import matplotlib.pyplot as plt\n",
    "from sklearn.svm import LinearSVC\n",
    "plt.ion()\n",
    "\n",
    "\n",
    "X,y=make_blobs(random_state=0)\n",
    "\n",
    "lsvc=LinearSVC(random_state=1,max_iter=100000)\n",
    "lsvc.fit(X,y)\n",
    "print(lsvc.coef_)\n",
    "print(lsvc.intercept_)\n",
    "shi=np.array([[1,3],[-2,2],[1,2],[0,0]])\n",
    "print(lsvc.predict(shi))\n"
   ]
  }
 ],
 "metadata": {
  "kernelspec": {
   "display_name": "Python 3 (ipykernel)",
   "language": "python",
   "name": "python3"
  },
  "language_info": {
   "codemirror_mode": {
    "name": "ipython",
    "version": 3
   },
   "file_extension": ".py",
   "mimetype": "text/x-python",
   "name": "python",
   "nbconvert_exporter": "python",
   "pygments_lexer": "ipython3",
   "version": "3.9.7"
  }
 },
 "nbformat": 4,
 "nbformat_minor": 5
}
