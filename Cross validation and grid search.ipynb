{
 "cells": [
  {
   "cell_type": "code",
   "execution_count": 10,
   "id": "399b6948",
   "metadata": {},
   "outputs": [
    {
     "data": {
      "text/plain": [
       "array([1.        , 0.93333333, 1.        , 1.        , 0.93333333,\n",
       "       0.93333333, 0.93333333, 1.        , 1.        , 1.        ])"
      ]
     },
     "execution_count": 10,
     "metadata": {},
     "output_type": "execute_result"
    }
   ],
   "source": [
    "#simple cross validation\n",
    "\n",
    "from sklearn.model_selection import cross_val_score as cvs\n",
    "from sklearn.datasets import load_iris\n",
    "from sklearn.linear_model import LogisticRegression\n",
    "iris = load_iris()\n",
    "logreg = LogisticRegression(max_iter=10000)\n",
    "scores = cvs(logreg, iris.data, iris.target,cv=10)\n",
    "scores"
   ]
  },
  {
   "cell_type": "code",
   "execution_count": 11,
   "id": "9606da7c",
   "metadata": {},
   "outputs": [
    {
     "data": {
      "text/plain": [
       "0.9733333333333334"
      ]
     },
     "execution_count": 11,
     "metadata": {},
     "output_type": "execute_result"
    }
   ],
   "source": [
    "scores.mean()"
   ]
  },
  {
   "cell_type": "code",
   "execution_count": 21,
   "id": "81c32a0d",
   "metadata": {},
   "outputs": [
    {
     "data": {
      "text/plain": [
       "array([1.        , 1.        , 1.        , 1.        , 1.        ,\n",
       "       1.        , 0.875     , 1.        , 0.75      , 1.        ,\n",
       "       0.85714286, 1.        , 1.        , 1.        , 0.85714286,\n",
       "       1.        , 1.        , 1.        , 1.        , 1.        ])"
      ]
     },
     "execution_count": 21,
     "metadata": {},
     "output_type": "execute_result"
    }
   ],
   "source": [
    "# stratified cross validation : this should be prefered because of things like imbalanced data or data ordered by label\n",
    "\n",
    "from sklearn.model_selection import KFold\n",
    "kf= KFold(n_splits=20, shuffle=True, random_state=13) \n",
    "logreg = LogisticRegression(max_iter=10000)\n",
    "scores = cvs(logreg, iris.data, iris.target,cv=kf)\n",
    "scores"
   ]
  },
  {
   "cell_type": "code",
   "execution_count": 20,
   "id": "b1b55893",
   "metadata": {},
   "outputs": [
    {
     "data": {
      "text/plain": [
       "0.9599999999999999"
      ]
     },
     "execution_count": 20,
     "metadata": {},
     "output_type": "execute_result"
    }
   ],
   "source": [
    "scores.mean()"
   ]
  },
  {
   "cell_type": "code",
   "execution_count": 25,
   "id": "29e2ab58",
   "metadata": {},
   "outputs": [
    {
     "name": "stdout",
     "output_type": "stream",
     "text": [
      "Parameter grid:\n",
      "{'C': [0.001, 0.01, 0.1, 1, 10, 100], 'gamma': [0.001, 0.01, 0.1, 1, 10, 100]}\n"
     ]
    }
   ],
   "source": [
    "# paramaeter grid and cross validation\n",
    "\n",
    "param_grid = {'C': [0.001, 0.01, 0.1, 1, 10, 100],\n",
    "                  'gamma': [0.001, 0.01, 0.1, 1, 10, 100]}\n",
    "print(\"Parameter grid:\\n{}\".format(param_grid))\n"
   ]
  },
  {
   "cell_type": "code",
   "execution_count": 34,
   "id": "a79611ee",
   "metadata": {},
   "outputs": [
    {
     "data": {
      "text/plain": [
       "0.9736842105263158"
      ]
     },
     "execution_count": 34,
     "metadata": {},
     "output_type": "execute_result"
    }
   ],
   "source": [
    "from sklearn.model_selection import GridSearchCV \n",
    "from sklearn.svm import SVC\n",
    "from sklearn.model_selection import train_test_split as tts\n",
    "\n",
    "grid_search = GridSearchCV(SVC(random_state=10), param_grid, cv=5)\n",
    "X_train, X_test, y_train, y_test = tts(iris.data, iris.target, random_state=0)\n",
    "grid_search.fit(X_train,y_train)\n",
    "score=grid_search.score(X_test,y_test)\n",
    "score # this is test score"
   ]
  },
  {
   "cell_type": "code",
   "execution_count": 35,
   "id": "70cc2b6d",
   "metadata": {},
   "outputs": [
    {
     "data": {
      "text/plain": [
       "{'C': 10, 'gamma': 0.1}"
      ]
     },
     "execution_count": 35,
     "metadata": {},
     "output_type": "execute_result"
    }
   ],
   "source": [
    "grid_search.best_params_"
   ]
  },
  {
   "cell_type": "code",
   "execution_count": 36,
   "id": "78337cbc",
   "metadata": {},
   "outputs": [
    {
     "data": {
      "text/plain": [
       "0.9731225296442687"
      ]
     },
     "execution_count": 36,
     "metadata": {},
     "output_type": "execute_result"
    }
   ],
   "source": [
    "grid_search.best_score_ # this is score inside grid search "
   ]
  },
  {
   "cell_type": "code",
   "execution_count": 37,
   "id": "f2a2c728",
   "metadata": {},
   "outputs": [
    {
     "data": {
      "text/plain": [
       "SVC(C=10, gamma=0.1, random_state=10)"
      ]
     },
     "execution_count": 37,
     "metadata": {},
     "output_type": "execute_result"
    }
   ],
   "source": [
    "grid_search.best_estimator_"
   ]
  },
  {
   "cell_type": "code",
   "execution_count": 38,
   "id": "cc6b6e58",
   "metadata": {},
   "outputs": [
    {
     "data": {
      "text/plain": [
       "{'mean_fit_time': array([0.00143056, 0.00126405, 0.00124993, 0.00117798, 0.0012568 ,\n",
       "        0.00119324, 0.00116854, 0.00117798, 0.00117674, 0.00118489,\n",
       "        0.00122666, 0.0012619 , 0.00118623, 0.00121002, 0.00109515,\n",
       "        0.00108957, 0.00129008, 0.00134096, 0.00127878, 0.00106444,\n",
       "        0.00089374, 0.00100555, 0.00166168, 0.00142179, 0.00112433,\n",
       "        0.00084295, 0.0008348 , 0.00095134, 0.00149403, 0.00146828,\n",
       "        0.00081224, 0.00083709, 0.00076199, 0.00091896, 0.00139089,\n",
       "        0.00142436]),\n",
       " 'std_fit_time': array([2.10824014e-04, 1.28915675e-04, 7.37980953e-05, 3.73553755e-05,\n",
       "        8.55922832e-05, 5.13395313e-05, 1.52419414e-05, 4.05960125e-05,\n",
       "        3.63644533e-05, 3.36180004e-05, 3.32478961e-05, 3.40390933e-05,\n",
       "        6.56822372e-05, 4.85000823e-05, 4.68574946e-05, 1.56827965e-05,\n",
       "        7.67325668e-05, 1.08373726e-04, 8.30606805e-05, 1.51237879e-04,\n",
       "        8.75211970e-05, 1.08390404e-04, 3.82940188e-04, 8.38933425e-05,\n",
       "        9.42910244e-05, 2.75373356e-05, 8.06047484e-05, 3.65912793e-05,\n",
       "        1.46722305e-04, 2.42356209e-05, 2.29270922e-05, 7.48134556e-05,\n",
       "        3.10512169e-05, 2.15658007e-05, 2.49784399e-05, 4.27559435e-05]),\n",
       " 'mean_score_time': array([0.00056033, 0.00051875, 0.00050964, 0.00052419, 0.00050669,\n",
       "        0.00051174, 0.00048389, 0.00050025, 0.00048661, 0.00052428,\n",
       "        0.00050659, 0.00048561, 0.00050454, 0.00050502, 0.00047421,\n",
       "        0.00047598, 0.00051198, 0.00051985, 0.00051632, 0.00047145,\n",
       "        0.00039673, 0.00044246, 0.00054917, 0.00050678, 0.0004693 ,\n",
       "        0.00035944, 0.00038223, 0.00038252, 0.00048819, 0.00053096,\n",
       "        0.00036893, 0.00032339, 0.00029941, 0.00034223, 0.00046463,\n",
       "        0.00049596]),\n",
       " 'std_score_time': array([4.04605250e-05, 4.13828726e-05, 3.60952186e-05, 4.14112139e-05,\n",
       "        3.69249961e-05, 4.28051594e-05, 1.04258457e-05, 3.04539584e-05,\n",
       "        5.48673625e-06, 4.97649884e-05, 4.24495961e-05, 6.76604876e-06,\n",
       "        3.61929769e-05, 4.45421550e-05, 1.64885022e-05, 4.52152774e-05,\n",
       "        2.46555706e-05, 3.59971316e-05, 5.10673674e-05, 5.31955824e-05,\n",
       "        6.88337189e-05, 9.10481066e-05, 1.10896639e-04, 2.64795364e-05,\n",
       "        3.60655998e-05, 2.12289488e-05, 8.29073518e-05, 5.85133015e-05,\n",
       "        3.47854586e-05, 4.69927797e-05, 3.95368459e-05, 2.62401716e-05,\n",
       "        3.92747121e-06, 4.49998884e-06, 2.85650532e-05, 2.58225703e-05]),\n",
       " 'param_C': masked_array(data=[0.001, 0.001, 0.001, 0.001, 0.001, 0.001, 0.01, 0.01,\n",
       "                    0.01, 0.01, 0.01, 0.01, 0.1, 0.1, 0.1, 0.1, 0.1, 0.1,\n",
       "                    1, 1, 1, 1, 1, 1, 10, 10, 10, 10, 10, 10, 100, 100,\n",
       "                    100, 100, 100, 100],\n",
       "              mask=[False, False, False, False, False, False, False, False,\n",
       "                    False, False, False, False, False, False, False, False,\n",
       "                    False, False, False, False, False, False, False, False,\n",
       "                    False, False, False, False, False, False, False, False,\n",
       "                    False, False, False, False],\n",
       "        fill_value='?',\n",
       "             dtype=object),\n",
       " 'param_gamma': masked_array(data=[0.001, 0.01, 0.1, 1, 10, 100, 0.001, 0.01, 0.1, 1, 10,\n",
       "                    100, 0.001, 0.01, 0.1, 1, 10, 100, 0.001, 0.01, 0.1, 1,\n",
       "                    10, 100, 0.001, 0.01, 0.1, 1, 10, 100, 0.001, 0.01,\n",
       "                    0.1, 1, 10, 100],\n",
       "              mask=[False, False, False, False, False, False, False, False,\n",
       "                    False, False, False, False, False, False, False, False,\n",
       "                    False, False, False, False, False, False, False, False,\n",
       "                    False, False, False, False, False, False, False, False,\n",
       "                    False, False, False, False],\n",
       "        fill_value='?',\n",
       "             dtype=object),\n",
       " 'params': [{'C': 0.001, 'gamma': 0.001},\n",
       "  {'C': 0.001, 'gamma': 0.01},\n",
       "  {'C': 0.001, 'gamma': 0.1},\n",
       "  {'C': 0.001, 'gamma': 1},\n",
       "  {'C': 0.001, 'gamma': 10},\n",
       "  {'C': 0.001, 'gamma': 100},\n",
       "  {'C': 0.01, 'gamma': 0.001},\n",
       "  {'C': 0.01, 'gamma': 0.01},\n",
       "  {'C': 0.01, 'gamma': 0.1},\n",
       "  {'C': 0.01, 'gamma': 1},\n",
       "  {'C': 0.01, 'gamma': 10},\n",
       "  {'C': 0.01, 'gamma': 100},\n",
       "  {'C': 0.1, 'gamma': 0.001},\n",
       "  {'C': 0.1, 'gamma': 0.01},\n",
       "  {'C': 0.1, 'gamma': 0.1},\n",
       "  {'C': 0.1, 'gamma': 1},\n",
       "  {'C': 0.1, 'gamma': 10},\n",
       "  {'C': 0.1, 'gamma': 100},\n",
       "  {'C': 1, 'gamma': 0.001},\n",
       "  {'C': 1, 'gamma': 0.01},\n",
       "  {'C': 1, 'gamma': 0.1},\n",
       "  {'C': 1, 'gamma': 1},\n",
       "  {'C': 1, 'gamma': 10},\n",
       "  {'C': 1, 'gamma': 100},\n",
       "  {'C': 10, 'gamma': 0.001},\n",
       "  {'C': 10, 'gamma': 0.01},\n",
       "  {'C': 10, 'gamma': 0.1},\n",
       "  {'C': 10, 'gamma': 1},\n",
       "  {'C': 10, 'gamma': 10},\n",
       "  {'C': 10, 'gamma': 100},\n",
       "  {'C': 100, 'gamma': 0.001},\n",
       "  {'C': 100, 'gamma': 0.01},\n",
       "  {'C': 100, 'gamma': 0.1},\n",
       "  {'C': 100, 'gamma': 1},\n",
       "  {'C': 100, 'gamma': 10},\n",
       "  {'C': 100, 'gamma': 100}],\n",
       " 'split0_test_score': array([0.34782609, 0.34782609, 0.34782609, 0.34782609, 0.34782609,\n",
       "        0.34782609, 0.34782609, 0.34782609, 0.34782609, 0.34782609,\n",
       "        0.34782609, 0.34782609, 0.34782609, 0.69565217, 0.91304348,\n",
       "        1.        , 0.34782609, 0.34782609, 0.69565217, 0.91304348,\n",
       "        1.        , 0.95652174, 0.91304348, 0.39130435, 0.91304348,\n",
       "        1.        , 1.        , 0.95652174, 0.86956522, 0.52173913,\n",
       "        1.        , 1.        , 1.        , 0.95652174, 0.86956522,\n",
       "        0.52173913]),\n",
       " 'split1_test_score': array([0.34782609, 0.34782609, 0.34782609, 0.34782609, 0.34782609,\n",
       "        0.34782609, 0.34782609, 0.34782609, 0.34782609, 0.34782609,\n",
       "        0.34782609, 0.34782609, 0.34782609, 0.69565217, 0.91304348,\n",
       "        0.91304348, 0.34782609, 0.34782609, 0.69565217, 0.91304348,\n",
       "        0.95652174, 0.91304348, 0.95652174, 0.43478261, 0.91304348,\n",
       "        0.95652174, 0.95652174, 0.95652174, 0.91304348, 0.52173913,\n",
       "        0.95652174, 0.91304348, 0.95652174, 0.95652174, 0.91304348,\n",
       "        0.52173913]),\n",
       " 'split2_test_score': array([0.36363636, 0.36363636, 0.36363636, 0.36363636, 0.36363636,\n",
       "        0.36363636, 0.36363636, 0.36363636, 0.36363636, 0.36363636,\n",
       "        0.36363636, 0.36363636, 0.36363636, 0.68181818, 0.90909091,\n",
       "        1.        , 0.36363636, 0.36363636, 0.68181818, 1.        ,\n",
       "        1.        , 1.        , 1.        , 0.54545455, 1.        ,\n",
       "        1.        , 1.        , 1.        , 1.        , 0.59090909,\n",
       "        1.        , 1.        , 1.        , 1.        , 1.        ,\n",
       "        0.59090909]),\n",
       " 'split3_test_score': array([0.36363636, 0.36363636, 0.36363636, 0.36363636, 0.36363636,\n",
       "        0.36363636, 0.36363636, 0.36363636, 0.36363636, 0.36363636,\n",
       "        0.36363636, 0.36363636, 0.36363636, 0.68181818, 0.86363636,\n",
       "        0.90909091, 0.36363636, 0.36363636, 0.68181818, 0.90909091,\n",
       "        0.90909091, 0.90909091, 0.81818182, 0.5       , 0.90909091,\n",
       "        0.90909091, 0.95454545, 0.86363636, 0.81818182, 0.59090909,\n",
       "        0.90909091, 0.95454545, 0.86363636, 0.86363636, 0.81818182,\n",
       "        0.59090909]),\n",
       " 'split4_test_score': array([0.40909091, 0.40909091, 0.40909091, 0.40909091, 0.40909091,\n",
       "        0.40909091, 0.40909091, 0.40909091, 0.40909091, 0.40909091,\n",
       "        0.40909091, 0.40909091, 0.40909091, 0.72727273, 0.90909091,\n",
       "        0.95454545, 0.40909091, 0.40909091, 0.72727273, 0.95454545,\n",
       "        0.95454545, 0.95454545, 0.95454545, 0.63636364, 0.95454545,\n",
       "        0.95454545, 0.95454545, 0.95454545, 0.95454545, 0.68181818,\n",
       "        0.95454545, 0.95454545, 0.95454545, 0.95454545, 0.95454545,\n",
       "        0.68181818]),\n",
       " 'mean_test_score': array([0.36640316, 0.36640316, 0.36640316, 0.36640316, 0.36640316,\n",
       "        0.36640316, 0.36640316, 0.36640316, 0.36640316, 0.36640316,\n",
       "        0.36640316, 0.36640316, 0.36640316, 0.69644269, 0.90158103,\n",
       "        0.95533597, 0.36640316, 0.36640316, 0.69644269, 0.93794466,\n",
       "        0.96403162, 0.94664032, 0.9284585 , 0.50158103, 0.93794466,\n",
       "        0.96403162, 0.97312253, 0.94624506, 0.91106719, 0.58142292,\n",
       "        0.96403162, 0.96442688, 0.95494071, 0.94624506, 0.91106719,\n",
       "        0.58142292]),\n",
       " 'std_test_score': array([0.02248453, 0.02248453, 0.02248453, 0.02248453, 0.02248453,\n",
       "        0.02248453, 0.02248453, 0.02248453, 0.02248453, 0.02248453,\n",
       "        0.02248453, 0.02248453, 0.02248453, 0.0166102 , 0.0190545 ,\n",
       "        0.03979356, 0.02248453, 0.02248453, 0.0166102 , 0.03521116,\n",
       "        0.03391848, 0.03330494, 0.06161953, 0.0856933 , 0.03521116,\n",
       "        0.03391848, 0.02195722, 0.04470773, 0.06348766, 0.05896354,\n",
       "        0.03391848, 0.03276105, 0.04979923, 0.04470773, 0.06348766,\n",
       "        0.05896354]),\n",
       " 'rank_test_score': array([22, 22, 22, 22, 22, 22, 22, 22, 22, 22, 22, 22, 22, 17, 16,  6, 22,\n",
       "        22, 17, 11,  3,  8, 13, 21, 11,  3,  1,  9, 14, 19,  3,  2,  7,  9,\n",
       "        14, 19], dtype=int32)}"
      ]
     },
     "execution_count": 38,
     "metadata": {},
     "output_type": "execute_result"
    }
   ],
   "source": [
    "grid_search.cv_results_"
   ]
  },
  {
   "cell_type": "code",
   "execution_count": 42,
   "id": "df49545d",
   "metadata": {},
   "outputs": [
    {
     "name": "stdout",
     "output_type": "stream",
     "text": [
      "Cross-validation scores:  [1.         1.         1.         1.         1.         1.\n",
      " 0.875      1.         0.75       1.         1.         1.\n",
      " 1.         1.         0.85714286 1.         1.         1.\n",
      " 1.         1.        ]\n",
      "Mean cross-validation score:  0.9741071428571428\n"
     ]
    }
   ],
   "source": [
    "# outer and inner loops of cross-validation\n",
    "\n",
    "kf= KFold(n_splits=20, shuffle=True, random_state=13) \n",
    "scores = cvs(GridSearchCV(SVC(), param_grid, cv=10),\n",
    "                             iris.data, iris.target, cv=kf)\n",
    "print(\"Cross-validation scores: \", scores) \n",
    "print(\"Mean cross-validation score: \", scores.mean())"
   ]
  },
  {
   "cell_type": "code",
   "execution_count": null,
   "id": "b2f0d43a",
   "metadata": {},
   "outputs": [],
   "source": []
  }
 ],
 "metadata": {
  "kernelspec": {
   "display_name": "Python 3 (ipykernel)",
   "language": "python",
   "name": "python3"
  },
  "language_info": {
   "codemirror_mode": {
    "name": "ipython",
    "version": 3
   },
   "file_extension": ".py",
   "mimetype": "text/x-python",
   "name": "python",
   "nbconvert_exporter": "python",
   "pygments_lexer": "ipython3",
   "version": "3.9.7"
  }
 },
 "nbformat": 4,
 "nbformat_minor": 5
}
