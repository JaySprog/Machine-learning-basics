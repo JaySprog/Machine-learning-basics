{
 "cells": [
  {
   "cell_type": "code",
   "execution_count": 1,
   "id": "970aa5b1",
   "metadata": {},
   "outputs": [
    {
     "name": "stdout",
     "output_type": "stream",
     "text": [
      "1.0\n",
      "0.92\n"
     ]
    },
    {
     "data": {
      "text/plain": [
       "Text(0, 0.5, 'second_feature')"
      ]
     },
     "execution_count": 1,
     "metadata": {},
     "output_type": "execute_result"
    },
    {
     "data": {
      "image/png": "[encoded data removed]",
      "text/plain": [
       "<Figure size 432x288 with 1 Axes>"
      ]
     },
     "metadata": {
      "needs_background": "light"
     },
     "output_type": "display_data"
    }
   ],
   "source": [
    "import pandas as pd\n",
    "import numpy as np\n",
    "from sklearn.datasets import make_moons\n",
    "from sklearn.model_selection import train_test_split as tts\n",
    "from sklearn.ensemble import RandomForestClassifier\n",
    "import matplotlib.pyplot as plt\n",
    "plt.ion()\n",
    "\n",
    "a=make_moons(noise=0.3,random_state=3)\n",
    "n_samples=(a[0].shape)[0]\n",
    "for i in range (n_samples):\n",
    "    if a[1][i]==0:\n",
    "        plt.scatter(a[0][i][0],a[0][i][1],color='green')\n",
    "    if a[1][i]==1:\n",
    "        plt.scatter(a[0][i][0],a[0][i][1],color='orange')\n",
    "        \n",
    "X_train,X_test,y_train,y_test=tts(a[0],a[1],stratify=a[1],random_state=10)\n",
    "rfc=RandomForestClassifier(n_estimators=100,random_state=25)\n",
    "rfc.fit(X_train,y_train)\n",
    "print(rfc.score(X_train,y_train))\n",
    "print(rfc.score(X_test,y_test))\n",
    "\n",
    "plt.xlabel('first_feature')\n",
    "plt.ylabel('second_feature')\n",
    "    \n"
   ]
  },
  {
   "cell_type": "code",
   "execution_count": null,
   "id": "1d540ee6",
   "metadata": {},
   "outputs": [],
   "source": []
  }
 ],
 "metadata": {
  "kernelspec": {
   "display_name": "Python 3 (ipykernel)",
   "language": "python",
   "name": "python3"
  },
  "language_info": {
   "codemirror_mode": {
    "name": "ipython",
    "version": 3
   },
   "file_extension": ".py",
   "mimetype": "text/x-python",
   "name": "python",
   "nbconvert_exporter": "python",
   "pygments_lexer": "ipython3",
   "version": "3.9.7"
  }
 },
 "nbformat": 4,
 "nbformat_minor": 5
}
