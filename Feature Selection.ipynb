{
 "cells": [
  {
   "cell_type": "code",
   "execution_count": 62,
   "id": "b552891c",
   "metadata": {},
   "outputs": [],
   "source": [
    "from sklearn.datasets import load_breast_cancer\n",
    "from sklearn.feature_selection import SelectPercentile \n",
    "from sklearn.model_selection import train_test_split as tts\n",
    "import numpy as np\n",
    "\n",
    "bc= load_breast_cancer()\n"
   ]
  },
  {
   "cell_type": "code",
   "execution_count": 63,
   "id": "cd9e1456",
   "metadata": {},
   "outputs": [],
   "source": [
    "# ANOVA method\n",
    "\n",
    "sp=SelectPercentile(percentile=20)"
   ]
  },
  {
   "cell_type": "code",
   "execution_count": 64,
   "id": "84591344",
   "metadata": {},
   "outputs": [
    {
     "data": {
      "text/plain": [
       "array([[1.228e+02, 1.471e-01, 2.538e+01, 1.846e+02, 2.019e+03, 2.654e-01],\n",
       "       [1.329e+02, 7.017e-02, 2.499e+01, 1.588e+02, 1.956e+03, 1.860e-01],\n",
       "       [1.300e+02, 1.279e-01, 2.357e+01, 1.525e+02, 1.709e+03, 2.430e-01],\n",
       "       ...,\n",
       "       [1.083e+02, 5.302e-02, 1.898e+01, 1.267e+02, 1.124e+03, 1.418e-01],\n",
       "       [1.401e+02, 1.520e-01, 2.574e+01, 1.846e+02, 1.821e+03, 2.650e-01],\n",
       "       [4.792e+01, 0.000e+00, 9.456e+00, 5.916e+01, 2.686e+02, 0.000e+00]])"
      ]
     },
     "execution_count": 64,
     "metadata": {},
     "output_type": "execute_result"
    }
   ],
   "source": [
    "sp.fit_transform(bc.data,bc.target)\n"
   ]
  },
  {
   "cell_type": "code",
   "execution_count": 65,
   "id": "b6191eb8",
   "metadata": {},
   "outputs": [
    {
     "name": "stdout",
     "output_type": "stream",
     "text": [
      "[False False  True False False False False  True False False False False\n",
      " False False False False False False False False  True False  True  True\n",
      " False False False  True False False]\n"
     ]
    }
   ],
   "source": [
    "a=sp.fit_transform(bc.data,bc.target)\n",
    "a.shape\n",
    "mask =sp.get_support()\n",
    "print(mask)"
   ]
  },
  {
   "cell_type": "code",
   "execution_count": 66,
   "id": "a8fe2816",
   "metadata": {},
   "outputs": [
    {
     "name": "stdout",
     "output_type": "stream",
     "text": [
      "0.9300699300699301\n"
     ]
    }
   ],
   "source": [
    "from sklearn.linear_model import LogisticRegression as lr\n",
    "\n",
    "X_train,X_test,y_train,y_test=tts(a,bc.target,random_state=10)\n",
    "logreg=lr(max_iter=10000)\n",
    "logreg.fit(X_train,y_train)\n",
    "logreg_score_train=logreg.score(X_train,y_train)\n",
    "logreg_score_test=logreg.score(X_test,y_test)\n",
    "\n",
    "print(logreg_score_test)\n",
    "\n"
   ]
  },
  {
   "cell_type": "code",
   "execution_count": 67,
   "id": "533a2521",
   "metadata": {},
   "outputs": [
    {
     "name": "stdout",
     "output_type": "stream",
     "text": [
      "0.9440559440559441\n"
     ]
    }
   ],
   "source": [
    "bc= load_breast_cancer()\n",
    "X_train,X_test,y_train,y_test=tts(bc.data,bc.target,random_state=10)\n",
    "logreg=lr(max_iter=10000)\n",
    "logreg.fit(X_train,y_train)\n",
    "logreg_score_train=logreg.score(X_train,y_train)\n",
    "logreg_score_test=logreg.score(X_test,y_test)\n",
    "\n",
    "print(logreg_score_test)\n"
   ]
  },
  {
   "cell_type": "code",
   "execution_count": 75,
   "id": "c1b28109",
   "metadata": {},
   "outputs": [
    {
     "data": {
      "text/plain": [
       "(426, 10)"
      ]
     },
     "execution_count": 75,
     "metadata": {},
     "output_type": "execute_result"
    }
   ],
   "source": [
    "# Model-based selection\n",
    "\n",
    "from sklearn.feature_selection import SelectFromModel \n",
    "from sklearn.ensemble import RandomForestClassifier \n",
    "select = SelectFromModel(RandomForestClassifier(n_estimators=100, random_state=42),threshold='mean')\n",
    "select.fit(X_train, y_train)\n",
    "x=select.transform(X_train)\n",
    "x.shape\n"
   ]
  },
  {
   "cell_type": "code",
   "execution_count": 74,
   "id": "31b56626",
   "metadata": {},
   "outputs": [
    {
     "data": {
      "text/plain": [
       "(426, 30)"
      ]
     },
     "execution_count": 74,
     "metadata": {},
     "output_type": "execute_result"
    }
   ],
   "source": [
    "X_train.shape"
   ]
  },
  {
   "cell_type": "code",
   "execution_count": 76,
   "id": "8abd62fa",
   "metadata": {},
   "outputs": [
    {
     "data": {
      "text/plain": [
       "(143, 10)"
      ]
     },
     "execution_count": 76,
     "metadata": {},
     "output_type": "execute_result"
    }
   ],
   "source": [
    "h=select.transform(X_test)\n",
    "h.shape"
   ]
  },
  {
   "cell_type": "code",
   "execution_count": 78,
   "id": "b6213d99",
   "metadata": {},
   "outputs": [
    {
     "name": "stdout",
     "output_type": "stream",
     "text": [
      "0.958041958041958\n"
     ]
    }
   ],
   "source": [
    "logreg=lr(max_iter=10000)\n",
    "logreg.fit(x,y_train)\n",
    "logreg_score_test=logreg.score(h,y_test)\n",
    "\n",
    "print(logreg_score_test)"
   ]
  },
  {
   "cell_type": "code",
   "execution_count": 80,
   "id": "88021297",
   "metadata": {},
   "outputs": [
    {
     "data": {
      "text/plain": [
       "(426, 17)"
      ]
     },
     "execution_count": 80,
     "metadata": {},
     "output_type": "execute_result"
    }
   ],
   "source": [
    "# Iterative feature selection\n",
    "\n",
    "from sklearn.feature_selection import RFE\n",
    "select = RFE(RandomForestClassifier(n_estimators=100, random_state=42),\n",
    "                 n_features_to_select=17)\n",
    "\n",
    "select.fit(X_train, y_train)\n",
    "x=select.transform(X_train)\n",
    "x.shape\n",
    "\n"
   ]
  },
  {
   "cell_type": "code",
   "execution_count": 81,
   "id": "3e8922f0",
   "metadata": {},
   "outputs": [
    {
     "data": {
      "text/plain": [
       "(143, 17)"
      ]
     },
     "execution_count": 81,
     "metadata": {},
     "output_type": "execute_result"
    }
   ],
   "source": [
    "h=select.transform(X_test)\n",
    "h.shape"
   ]
  },
  {
   "cell_type": "code",
   "execution_count": 82,
   "id": "176829d4",
   "metadata": {},
   "outputs": [
    {
     "name": "stdout",
     "output_type": "stream",
     "text": [
      "0.9440559440559441\n"
     ]
    }
   ],
   "source": [
    "logreg=lr(max_iter=10000)\n",
    "logreg.fit(x,y_train)\n",
    "logreg_score_test=logreg.score(h,y_test)\n",
    "\n",
    "print(logreg_score_test)"
   ]
  }
 ],
 "metadata": {
  "kernelspec": {
   "display_name": "Python 3 (ipykernel)",
   "language": "python",
   "name": "python3"
  },
  "language_info": {
   "codemirror_mode": {
    "name": "ipython",
    "version": 3
   },
   "file_extension": ".py",
   "mimetype": "text/x-python",
   "name": "python",
   "nbconvert_exporter": "python",
   "pygments_lexer": "ipython3",
   "version": "3.9.7"
  }
 },
 "nbformat": 4,
 "nbformat_minor": 5
}
